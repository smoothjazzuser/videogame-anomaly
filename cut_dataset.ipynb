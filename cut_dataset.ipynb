{
 "cells": [
  {
   "cell_type": "code",
   "execution_count": 1,
   "metadata": {},
   "outputs": [
    {
     "name": "stdout",
     "output_type": "stream",
     "text": [
      "rsync: [sender] change_dir \"/tmp/empty\" failed: No such file or directory (2)\n",
      "rsync error: some files/attrs were not transferred (see previous errors) (code 23) at main.c(1327) [sender=3.2.5]\n",
      "rsync: [sender] change_dir \"/tmp/empty\" failed: No such file or directory (2)\n",
      "rsync error: some files/attrs were not transferred (see previous errors) (code 23) at main.c(1327) [sender=3.2.5]\n"
     ]
    }
   ],
   "source": [
    "import os\n",
    "import shutil\n",
    "import pandas as pd\n",
    "from glob import glob\n",
    "from joblib import Parallel, delayed\n",
    "# This script only keep every 15th frame of the dataset\n",
    "# Nonedestructive and only creates a copy in a new folder\n",
    "keep_every = 15\n",
    "ram = True\n",
    "source_path = '/home/smoothjazzuser/videogame-anomoly/MNAD/dataset/bugs/training/full'\n",
    "destination = '/home/smoothjazzuser/videogame-anomoly/MNAD/dataset/bugs/training/frames'\n",
    "ls_destination = destination\n",
    "if ram:\n",
    "    if not os.path.exists('/home/smoothjazzuser/Desktop/ram/frames/'):\n",
    "        os.makedirs('/home/smoothjazzuser/Desktop/ram/frames/')\n",
    "    destination = '/home/smoothjazzuser/Desktop/ram/frames'\n",
    "    !rsync -a --delete /tmp/empty/   /home/smoothjazzuser/videogame-anomoly/MNAD/dataset/bugs/training/frames/\n",
    "    !rsync -a --delete /tmp/empty/   /home/smoothjazzuser/Desktop/ram/frames/\n",
    "    !rm -rf /home/smoothjazzuser/videogame-anomoly/MNAD/dataset/bugs/training/frames\n",
    "else: \n",
    "    !rsync -a --delete /tmp/empty/   /home/smoothjazzuser/videogame-anomoly/MNAD/dataset/bugs/training/frames/\n",
    "    #del /frames/ folder\n",
    "    !rm -rf /home/smoothjazzuser/videogame-anomoly/MNAD/dataset/bugs/training/frames\n",
    "    #create new /frames/ folder\n",
    "    !mkdir /home/smoothjazzuser/videogame-anomoly/MNAD/dataset/bugs/training/frames\n",
    "    print('Saving to RAM')\n",
    "!mkdir -p /tmp/empty\n"
   ]
  },
  {
   "cell_type": "code",
   "execution_count": 2,
   "metadata": {},
   "outputs": [
    {
     "name": "stdout",
     "output_type": "stream",
     "text": [
      "668\n"
     ]
    }
   ],
   "source": [
    "\n",
    "\n",
    "folders_list = sorted(glob(os.path.join(source_path, '*')))\n",
    "print(len(folders_list))\n",
    "\n",
    "# create all desitnation folders, if they don't exist\n",
    "for folder in folders_list:\n",
    "    if not os.path.exists(os.path.join(destination, folder.split('/')[-1])):\n",
    "        os.makedirs(os.path.join(destination, folder.split('/')[-1]))\n",
    "\n",
    "def copy_frames(folder):\n",
    "    files = sorted(glob(os.path.join(folder, '*.jpg')), key=lambda x: int(x.split('/')[-1].split('.')[0]))\n",
    "    dest = os.path.join(destination, folder.split('/')[-1])\n",
    "    for i, file in enumerate(files):\n",
    "        if i % keep_every == 0:\n",
    "            shutil.copy(file, os.path.join(dest, os.path.basename(file)))\n",
    "    # rename all files in the folder to be sequential, starting at 0\n",
    "    files = sorted(glob(os.path.join(dest, '*.jpg')), key=lambda x: int(x.split('/')[-1].split('.')[0]))\n",
    "    for i, file in enumerate(files):\n",
    "        os.rename(file, os.path.join(dest, str(i).zfill(3)+'.jpg'))\n",
    "\n",
    "    # remove frames until len(files) is a multiple of 5\n",
    "    files = sorted(glob(os.path.join(dest, '*.jpg')), key=lambda x: int(x.split('/')[-1].split('.')[0]))\n",
    "    while len(files) % 1 != 0:\n",
    "        os.remove(files[-1])\n",
    "        files = sorted(glob(os.path.join(dest, '*.jpg')), key=lambda x: int(x.split('/')[-1].split('.')[0]))\n",
    "\n"
   ]
  },
  {
   "cell_type": "code",
   "execution_count": 3,
   "metadata": {},
   "outputs": [],
   "source": [
    "c = Parallel(n_jobs=12)(delayed(copy_frames)(folder) for folder in folders_list)\n",
    "del c"
   ]
  },
  {
   "cell_type": "code",
   "execution_count": null,
   "metadata": {},
   "outputs": [],
   "source": [
    "# link with shortcut '/home/smoothjazzuser/Desktop/ram/frames' and '/home/smoothjazzuser/videogame-anomoly/MNAD/dataset/bugs/training/frames' to the same folder\n",
    "if ram:\n",
    "    !ln -s /home/smoothjazzuser/Desktop/ram/frames/ /home/smoothjazzuser/videogame-anomoly/MNAD/dataset/bugs/training/"
   ]
  }
 ],
 "metadata": {
  "kernelspec": {
   "display_name": "Python 3.9.13 ('base')",
   "language": "python",
   "name": "python3"
  },
  "language_info": {
   "codemirror_mode": {
    "name": "ipython",
    "version": 3
   },
   "file_extension": ".py",
   "mimetype": "text/x-python",
   "name": "python",
   "nbconvert_exporter": "python",
   "pygments_lexer": "ipython3",
   "version": "3.9.13"
  },
  "orig_nbformat": 4,
  "vscode": {
   "interpreter": {
    "hash": "18f39d5a9bfe4d0ce9b1ccd808a3754df6677d81d118bc81d2886eb8b9b7056c"
   }
  }
 },
 "nbformat": 4,
 "nbformat_minor": 2
}
