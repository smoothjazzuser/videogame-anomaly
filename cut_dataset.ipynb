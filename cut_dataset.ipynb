{
 "cells": [
  {
   "cell_type": "code",
   "execution_count": 5,
   "metadata": {},
   "outputs": [],
   "source": [
    "# This script only keep every 15th frame of the dataset\n",
    "# Nonedestructive and only creates a copy in a new folder\n",
    "source_path = '/home/smoothjazzuser/videogame-anomoly/MNAD/dataset/bugs/training/full'\n",
    "destination = '/home/smoothjazzuser/videogame-anomoly/MNAD/dataset/bugs/training/frames'\n",
    "!mkdir -p /tmp/empty\n",
    "!rsync -a --delete /tmp/empty/   /home/smoothjazzuser/videogame-anomoly/MNAD/dataset/bugs/training/frames/"
   ]
  },
  {
   "cell_type": "code",
   "execution_count": 6,
   "metadata": {},
   "outputs": [
    {
     "name": "stdout",
     "output_type": "stream",
     "text": [
      "800\n"
     ]
    }
   ],
   "source": [
    "import os\n",
    "import shutil\n",
    "import pandas as pd\n",
    "from glob import glob\n",
    "from joblib import Parallel, delayed\n",
    "\n",
    "folders_list = sorted(glob(os.path.join(source_path, '*')))\n",
    "print(len(folders_list))\n",
    "\n",
    "# create all desitnation folders, if they don't exist\n",
    "for folder in folders_list:\n",
    "    if not os.path.exists(os.path.join(destination, folder.split('/')[-1])):\n",
    "        os.makedirs(os.path.join(destination, folder.split('/')[-1]))\n",
    "\n",
    "def copy_frames(folder):\n",
    "    files = sorted(glob(os.path.join(folder, '*.jpg')), key=lambda x: int(x.split('/')[-1].split('.')[0]))\n",
    "    dest = os.path.join(destination, folder.split('/')[-1])\n",
    "    for i, file in enumerate(files):\n",
    "        if i % 15 == 0:\n",
    "            shutil.copy(file, os.path.join(dest, os.path.basename(file)))\n",
    "\n"
   ]
  },
  {
   "cell_type": "code",
   "execution_count": 7,
   "metadata": {},
   "outputs": [],
   "source": [
    "c = Parallel(n_jobs=12)(delayed(copy_frames)(folder) for folder in folders_list)\n",
    "del c"
   ]
  }
 ],
 "metadata": {
  "kernelspec": {
   "display_name": "Python 3.9.13 ('base')",
   "language": "python",
   "name": "python3"
  },
  "language_info": {
   "codemirror_mode": {
    "name": "ipython",
    "version": 3
   },
   "file_extension": ".py",
   "mimetype": "text/x-python",
   "name": "python",
   "nbconvert_exporter": "python",
   "pygments_lexer": "ipython3",
   "version": "3.9.13"
  },
  "orig_nbformat": 4,
  "vscode": {
   "interpreter": {
    "hash": "18f39d5a9bfe4d0ce9b1ccd808a3754df6677d81d118bc81d2886eb8b9b7056c"
   }
  }
 },
 "nbformat": 4,
 "nbformat_minor": 2
}
