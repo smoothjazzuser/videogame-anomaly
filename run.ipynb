{
 "cells": [
  {
   "cell_type": "code",
   "execution_count": 1,
   "metadata": {},
   "outputs": [],
   "source": [
    "import numpy as np\n",
    "import matplotlib.pyplot as plt\n",
    "from PIL import Image as im\n",
    "import matplotlib.image as mpimg\n",
    "from tqdm.notebook import tqdm\n",
    "from glob import glob\n",
    "import os\n",
    "ff = 10000000\n",
    "f = 100\n",
    "\n",
    "def vis(img): #reorders array to be compatible with matplotlib\n",
    "    im = np.moveaxis(img,0, -1)\n",
    "    plt.imshow(im)\n",
    "    plt.show()\n",
    "\n",
    "# def test_mask(f, masked=True): #finds an image with a mask\n",
    "#     for i in range (f, ff):\n",
    "#         name =str(i)\n",
    "#         if len(name) < 8:\n",
    "#             name = '0'*(8-len(name)) + name\n",
    "#         print(name)\n",
    "#         image = np.load(f'/home/smoothjazzuser/Desktop/fast/NORMAL-TRAIN/ep-0000/{name}.npz', allow_pickle=True)\n",
    "#         if masked:\n",
    "#             if np.sum(image['info'][1]) > 0:\n",
    "#                 return name\n",
    "#         else:\n",
    "#             if np.sum(image['info'][1]) == 0:\n",
    "#                 return name\n",
    "\n",
    "def numpy_to_image(img, path): #converts numpy array to image\n",
    "    img = np.moveaxis(img,0, -1)\n",
    "    mpimg.imsave(f'{path}.jpg', img)\n",
    "    #return img\n",
    "def binarize(i):\n",
    "    return 1 if i > 0 else 0\n",
    "\n",
    "# name = test_mask(f, False)\n",
    "#print(name)\n",
    "\n",
    "test_data = np.load(f'/home/smoothjazzuser/Desktop/fast/NORMAL-TRAIN/ep-0000/00000000.npz', allow_pickle=True)\n",
    "test_data.files\n",
    "test_data['state'].shape\n",
    "tr = \"/home/smoothjazzuser/videogame-anomoly/MNAD/dataset/bugs/training/frames/\"\n",
    "te = \"/home/smoothjazzuser/videogame-anomoly/MNAD/dataset/bugs/testing/frames/\"\n",
    "#glob('/home/smoothjazzuser/Desktop/fast/TEST/BlackScreen/*/*.npz')\n",
    "#glob('/home/smoothjazzuser/Desktop/fast/TEST/*')"
   ]
  },
  {
   "cell_type": "code",
   "execution_count": null,
   "metadata": {},
   "outputs": [],
   "source": [
    "masked_list = []\n",
    "# for every file in each bug type folder, save the image to the corresponding folder under MNAD\n",
    "for i in tqdm(glob('/home/smoothjazzuser/Desktop/fast/TEST/*')):\n",
    "    folder_count = 1\n",
    "    for ii in glob(f'{i}/*'):\n",
    "        if len(str(folder_count)) >= 2:\n",
    "            f_name = '' + str(folder_count)\n",
    "        else:\n",
    "            f_name = '0' + str(folder_count)\n",
    "        counter = 0\n",
    "        for j in glob(f'{ii}/*.npz'):\n",
    "            \n",
    "            \n",
    "            if len(str(counter)) >= 3:\n",
    "                name = str(counter)\n",
    "            elif len(str(counter)) == 2:\n",
    "                name = '0' + str(counter)\n",
    "            else:\n",
    "                name = '00' + str(counter)\n",
    "            \n",
    "            data = np.load(j, allow_pickle=True)\n",
    "            masked_list.append(np.sum(data['info'][1]))\n",
    "            if not os.path.exists(f\"{te + f_name}\"):\n",
    "                os.makedirs(f\"{te + f_name}\")\n",
    "            numpy_to_image(data['state'], te + f_name + \"/\" + name)\n",
    "            counter+=1\n",
    "        folder_count+=1\n",
    "\n",
    "np.save('frame_labels_bugs.npy', np.array(np.expand_dims(np.array([binarize(i) for i in masked_list]), axis=0)))\n",
    "np.save('total_frame_labels_bugs.npy', np.array(np.expand_dims(np.array(masked_list), axis=0))) "
   ]
  },
  {
   "cell_type": "code",
   "execution_count": null,
   "metadata": {},
   "outputs": [],
   "source": [
    "del masked_list\n",
    "import gc\n",
    "gc.collect()"
   ]
  },
  {
   "cell_type": "code",
   "execution_count": 2,
   "metadata": {},
   "outputs": [
    {
     "data": {
      "application/vnd.jupyter.widget-view+json": {
       "model_id": "c7e6bb06c2b14df5a05ab6f815b42b5f",
       "version_major": 2,
       "version_minor": 0
      },
      "text/plain": [
       "  0%|          | 0/70 [00:00<?, ?it/s]"
      ]
     },
     "metadata": {},
     "output_type": "display_data"
    }
   ],
   "source": [
    "folder_count = 1\n",
    "for i in tqdm(glob('/home/smoothjazzuser/Desktop/fast/NORMAL-TRAIN/*')):\n",
    "    if len(str(folder_count)) >= 2:\n",
    "        f_name = '' + str(folder_count)\n",
    "    else:\n",
    "        f_name = '0' + str(folder_count)\n",
    "    counter = 0\n",
    "    \n",
    "    if not os.path.exists(f\"{tr + f_name}\"):\n",
    "            os.makedirs(f\"{tr + f_name}\")\n",
    "            \n",
    "    for j in glob(f'{i}/*.npz'):\n",
    "        \n",
    "        if len(str(counter)) >= 3:\n",
    "            name = str(counter)\n",
    "        elif len(str(counter)) == 2:\n",
    "            name = '0' + str(counter)\n",
    "        else:\n",
    "            name = '00' + str(counter)\n",
    "                \n",
    "        data = np.load(j, allow_pickle=True)\n",
    "        #masked_list.append(np.sum(data['info'][1]))\n",
    "        numpy_to_image(data['state'], tr + f_name + \"/\" + name)\n",
    "        counter+=1\n",
    "    folder_count+=1"
   ]
  },
  {
   "cell_type": "code",
   "execution_count": 3,
   "metadata": {},
   "outputs": [
    {
     "ename": "TypeError",
     "evalue": "numpy_to_image() takes 2 positional arguments but 3 were given",
     "output_type": "error",
     "traceback": [
      "\u001b[0;31m---------------------------------------------------------------------------\u001b[0m",
      "\u001b[0;31mTypeError\u001b[0m                                 Traceback (most recent call last)",
      "\u001b[0;32m/tmp/ipykernel_23325/1468539579.py\u001b[0m in \u001b[0;36m<module>\u001b[0;34m\u001b[0m\n\u001b[1;32m      2\u001b[0m \u001b[0;34m\u001b[0m\u001b[0m\n\u001b[1;32m      3\u001b[0m \u001b[0;34m\u001b[0m\u001b[0m\n\u001b[0;32m----> 4\u001b[0;31m \u001b[0mnumpy_to_image\u001b[0m\u001b[0;34m(\u001b[0m\u001b[0mtest_data\u001b[0m\u001b[0;34m[\u001b[0m\u001b[0;34m'state'\u001b[0m\u001b[0;34m]\u001b[0m\u001b[0;34m,\u001b[0m \u001b[0;34m\"1\"\u001b[0m\u001b[0;34m,\u001b[0m \u001b[0;34m'/home/smoothjazzuser/Desktop/'\u001b[0m\u001b[0;34m)\u001b[0m\u001b[0;34m\u001b[0m\u001b[0;34m\u001b[0m\u001b[0m\n\u001b[0m",
      "\u001b[0;31mTypeError\u001b[0m: numpy_to_image() takes 2 positional arguments but 3 were given"
     ]
    }
   ],
   "source": [
    "#convert npz dataset to image dataset\n",
    "\n",
    "\n",
    "numpy_to_image(test_data['state'], \"1\", '/home/smoothjazzuser/Desktop/')"
   ]
  },
  {
   "cell_type": "code",
   "execution_count": null,
   "metadata": {},
   "outputs": [],
   "source": [
    "print(np.sum(test_data['info'][1])) # if mask > 0, then it is a black screen\n",
    "print(test_data['state'].shape) # size of image"
   ]
  },
  {
   "cell_type": "code",
   "execution_count": null,
   "metadata": {},
   "outputs": [],
   "source": [
    "vis(test_data['state'])"
   ]
  },
  {
   "cell_type": "code",
   "execution_count": null,
   "metadata": {},
   "outputs": [],
   "source": [
    "np.sum(test_data['state'])"
   ]
  },
  {
   "cell_type": "code",
   "execution_count": null,
   "metadata": {},
   "outputs": [],
   "source": [
    "np.sum(test_data['info'][1])"
   ]
  },
  {
   "cell_type": "code",
   "execution_count": null,
   "metadata": {},
   "outputs": [],
   "source": [
    "print(test_data['info'][1]) # if mask > 0, then it is a black screen"
   ]
  }
 ],
 "metadata": {
  "kernelspec": {
   "display_name": "Python 3.7.12 ('special')",
   "language": "python",
   "name": "python3"
  },
  "language_info": {
   "codemirror_mode": {
    "name": "ipython",
    "version": 3
   },
   "file_extension": ".py",
   "mimetype": "text/x-python",
   "name": "python",
   "nbconvert_exporter": "python",
   "pygments_lexer": "ipython3",
   "version": "3.7.12"
  },
  "orig_nbformat": 4,
  "vscode": {
   "interpreter": {
    "hash": "9e4ac370d07c6081e021a3a5c577f93026baa55c97354dc05bd5b945e8effc66"
   }
  }
 },
 "nbformat": 4,
 "nbformat_minor": 2
}
