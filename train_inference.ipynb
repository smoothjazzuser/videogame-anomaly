{
 "cells": [
  {
   "cell_type": "code",
   "execution_count": 50,
   "metadata": {},
   "outputs": [],
   "source": [
    "import os\n",
    "import glob\n",
    "import numpy as np\n",
    "from collections import OrderedDict"
   ]
  },
  {
   "cell_type": "code",
   "execution_count": 51,
   "metadata": {},
   "outputs": [],
   "source": [
    "inference = 'all' # '01' through '29' or 'all'\n"
   ]
  },
  {
   "cell_type": "code",
   "execution_count": 52,
   "metadata": {},
   "outputs": [],
   "source": [
    "#check if frames exists:\n",
    "if os.path.exists('/home/smoothjazzuser/videogame-anomoly/MNAD/dataset/bugs/testing/frames'):\n",
    "    !rm -r '/home/smoothjazzuser/videogame-anomoly/MNAD/dataset/bugs/testing/frames'\n",
    "\n",
    "if inference == 'all':\n",
    "    !ln -s '/home/smoothjazzuser/videogame-anomoly/MNAD/dataset/bugs/symlink_loc/' '/home/smoothjazzuser/videogame-anomoly/MNAD/dataset/bugs/testing/frames'\n",
    "else:\n",
    "    if not os.path.exists('/home/smoothjazzuser/videogame-anomoly/MNAD/dataset/bugs/testing/frames'):\n",
    "        !mkdir '/home/smoothjazzuser/videogame-anomoly/MNAD/dataset/bugs/testing/frames/'\n",
    "    !ln -s '/home/smoothjazzuser/videogame-anomoly/MNAD/dataset/bugs/symlink_loc/'$inference '/home/smoothjazzuser/videogame-anomoly/MNAD/dataset/bugs/testing/frames/'$inference\n",
    "\n"
   ]
  },
  {
   "cell_type": "code",
   "execution_count": 53,
   "metadata": {},
   "outputs": [
    {
     "name": "stdout",
     "output_type": "stream",
     "text": [
      "OrderedDict([('11', 4960), ('12', 4960), ('13', 4960), ('14', 4960), ('15', 4960), ('16', 4960), ('17', 4960), ('18', 4960), ('19', 4960), ('20', 4960), ('21', 4960), ('22', 4960), ('23', 4960), ('24', 4960), ('25', 4960), ('26', 4952), ('27', 4960), ('28', 4960), ('29', 4960), ('30', 4960), ('31', 4404), ('32', 2580), ('33', 4951), ('34', 4678), ('35', 4440), ('36', 4951), ('37', 4950), ('38', 4954), ('39', 4950), ('40', 4949), ('41', 4916), ('42', 4759), ('43', 4922), ('44', 4946), ('45', 4944), ('46', 4933), ('47', 4852), ('48', 4619), ('49', 4884), ('50', 4948), ('51', 4904), ('52', 4869), ('53', 4920), ('54', 4895), ('55', 4718), ('56', 4755), ('57', 4951), ('58', 4953), ('59', 4641), ('60', 4738), ('61', 73), ('62', 323), ('63', 2675), ('64', 376), ('65', 617), ('66', 1201), ('67', 1346), ('68', 1831), ('69', 799), ('70', 3340), ('71', 1671), ('72', 4516), ('73', 1164), ('74', 493), ('75', 3142), ('76', 1999), ('77', 1292), ('78', 3399), ('79', 2168), ('80', 2035), ('81', 1250), ('82', 1837), ('83', 423), ('84', 874), ('85', 1050), ('86', 3337), ('87', 788), ('88', 753), ('89', 896), ('90', 4930), ('91', 4795), ('92', 4477), ('93', 4915), ('94', 4943), ('95', 4662), ('96', 4947), ('97', 4949), ('98', 4953), ('99', 4950), ('107', 314), ('108', 4960), ('109', 4960), ('110', 4960), ('111', 4949), ('112', 4960), ('113', 4960), ('114', 4960), ('115', 4960), ('116', 4960), ('117', 4960), ('118', 4960), ('119', 4960)])\n",
      "11 4960\n",
      "12 4960\n",
      "13 4960\n",
      "14 4960\n",
      "15 4960\n",
      "16 4960\n",
      "17 4960\n",
      "18 4960\n",
      "19 4960\n",
      "20 4960\n",
      "21 4960\n",
      "22 4960\n",
      "23 4960\n",
      "24 4960\n",
      "25 4960\n",
      "26 4952\n",
      "27 4960\n",
      "28 4960\n",
      "29 4960\n",
      "30 4960\n",
      "31 4404\n",
      "32 2580\n",
      "33 4951\n",
      "34 4678\n",
      "35 4440\n",
      "36 4951\n",
      "37 4950\n",
      "38 4954\n",
      "39 4950\n",
      "40 4949\n",
      "41 4916\n",
      "42 4759\n",
      "43 4922\n",
      "44 4946\n",
      "45 4944\n",
      "46 4933\n",
      "47 4852\n",
      "48 4619\n",
      "49 4884\n",
      "50 4948\n",
      "51 4904\n",
      "52 4869\n",
      "53 4920\n",
      "54 4895\n",
      "55 4718\n",
      "56 4755\n",
      "57 4951\n",
      "58 4953\n",
      "59 4641\n",
      "60 4738\n",
      "61 73\n",
      "62 323\n",
      "63 2675\n",
      "64 376\n",
      "65 617\n",
      "66 1201\n",
      "67 1346\n",
      "68 1831\n",
      "69 799\n",
      "70 3340\n",
      "71 1671\n",
      "72 4516\n",
      "73 1164\n",
      "74 493\n",
      "75 3142\n",
      "76 1999\n",
      "77 1292\n",
      "78 3399\n",
      "79 2168\n",
      "80 2035\n",
      "81 1250\n",
      "82 1837\n",
      "83 423\n",
      "84 874\n",
      "85 1050\n",
      "86 3337\n",
      "87 788\n",
      "88 753\n",
      "89 896\n",
      "90 4930\n",
      "91 4795\n",
      "92 4477\n",
      "93 4915\n",
      "94 4943\n",
      "95 4662\n",
      "96 4947\n",
      "97 4949\n",
      "98 4953\n",
      "99 4950\n",
      "107 314\n",
      "108 4960\n",
      "109 4960\n",
      "110 4960\n",
      "111 4949\n",
      "112 4960\n",
      "113 4960\n",
      "114 4960\n",
      "115 4960\n",
      "116 4960\n",
      "117 4960\n",
      "118 4960\n",
      "119 4960\n"
     ]
    }
   ],
   "source": [
    "# load numpy file\n",
    "#sorted(glob.glob(f\"/home/smoothjazzuser/videogame-anomoly/MNAD/dataset/bugs/testing/frames/54/*.png\"), key=lambda x: int(x.split('/')[-1].split('.')[0]))\n",
    "if True:\n",
    "    frame_labels_bugs = np.load('/home/smoothjazzuser/videogame-anomoly/MNAD/dataset/bugs/symlink_loc/GTall/frame_labels_bugs.npy', allow_pickle=True)\n",
    "\n",
    "    # list directories in /home/smoothjazzuser/videogame-anomoly/MNAD/dataset/bugs/testing/frames/ using glob\n",
    "    # glob returns a list of all files in the directory\n",
    "    dd = glob.glob('/home/smoothjazzuser/videogame-anomoly/MNAD/dataset/bugs/testing/frames/*')\n",
    "    dd.sort()\n",
    "    directories = [x.split('/')[-1] for x in dd if x.split('/')[-1].isdigit()]\n",
    "    directories.sort()\n",
    "    directories = {d:len(glob.glob('/home/smoothjazzuser/videogame-anomoly/MNAD/dataset/bugs/testing/frames/' + d + '/*.png')) for d in directories if os.path.exists('/home/smoothjazzuser/videogame-anomoly/MNAD/dataset/bugs/testing/frames/' + d)}\n",
    "    directories = OrderedDict(sorted(directories.items(), key=lambda x: int(x[0])))\n",
    "    print(directories)\n",
    "    iterate = 0\n",
    "    for folder, num_frames in directories.items():\n",
    "        if not os.path.exists('/home/smoothjazzuser/videogame-anomoly/MNAD/dataset/bugs/testing/frames/' + folder):\n",
    "            !mkdir '/home/smoothjazzuser/videogame-anomoly/MNAD/dataset/bugs/testing/frames/'$folder\n",
    "\n",
    "            print(folder, num_frames)\n",
    "        if not os.path.exists('/home/smoothjazzuser/videogame-anomoly/MNAD/dataset/bugs/symlink_loc/GT' + folder + '/frame_labels_bugs.npy'):\n",
    "            !mkdir '/home/smoothjazzuser/videogame-anomoly/MNAD/dataset/bugs/symlink_loc/GT'$folder\n",
    "            # seperate the labels for each folder from the frame_labels_bugs\n",
    "            print(folder, num_frames)\n",
    "            labels = frame_labels_bugs[0][iterate:iterate+num_frames]\n",
    "            iterate += num_frames\n",
    "            np.save('/home/smoothjazzuser/videogame-anomoly/MNAD/dataset/bugs/symlink_loc/GT' + folder + '/frame_labels_bugs.npy', np.array(np.expand_dims(np.array(labels), axis=0)))"
   ]
  },
  {
   "cell_type": "code",
   "execution_count": 54,
   "metadata": {},
   "outputs": [
    {
     "data": {
      "text/plain": [
       "492723"
      ]
     },
     "execution_count": 54,
     "metadata": {},
     "output_type": "execute_result"
    }
   ],
   "source": [
    "frame_labels_bugs.shape[1]"
   ]
  },
  {
   "cell_type": "code",
   "execution_count": 55,
   "metadata": {},
   "outputs": [
    {
     "data": {
      "text/plain": [
       "OrderedDict([('11', 4960),\n",
       "             ('12', 4960),\n",
       "             ('13', 4960),\n",
       "             ('14', 4960),\n",
       "             ('15', 4960),\n",
       "             ('16', 4960),\n",
       "             ('17', 4960),\n",
       "             ('18', 4960),\n",
       "             ('19', 4960),\n",
       "             ('20', 4960),\n",
       "             ('21', 4960),\n",
       "             ('22', 4960),\n",
       "             ('23', 4960),\n",
       "             ('24', 4960),\n",
       "             ('25', 4960),\n",
       "             ('26', 4952),\n",
       "             ('27', 4960),\n",
       "             ('28', 4960),\n",
       "             ('29', 4960),\n",
       "             ('30', 4960),\n",
       "             ('31', 4404),\n",
       "             ('32', 2580),\n",
       "             ('33', 4951),\n",
       "             ('34', 4678),\n",
       "             ('35', 4440),\n",
       "             ('36', 4951),\n",
       "             ('37', 4950),\n",
       "             ('38', 4954),\n",
       "             ('39', 4950),\n",
       "             ('40', 4949),\n",
       "             ('41', 4916),\n",
       "             ('42', 4759),\n",
       "             ('43', 4922),\n",
       "             ('44', 4946),\n",
       "             ('45', 4944),\n",
       "             ('46', 4933),\n",
       "             ('47', 4852),\n",
       "             ('48', 4619),\n",
       "             ('49', 4884),\n",
       "             ('50', 4948),\n",
       "             ('51', 4904),\n",
       "             ('52', 4869),\n",
       "             ('53', 4920),\n",
       "             ('54', 4895),\n",
       "             ('55', 4718),\n",
       "             ('56', 4755),\n",
       "             ('57', 4951),\n",
       "             ('58', 4953),\n",
       "             ('59', 4641),\n",
       "             ('60', 4738),\n",
       "             ('61', 73),\n",
       "             ('62', 323),\n",
       "             ('63', 2675),\n",
       "             ('64', 376),\n",
       "             ('65', 617),\n",
       "             ('66', 1201),\n",
       "             ('67', 1346),\n",
       "             ('68', 1831),\n",
       "             ('69', 799),\n",
       "             ('70', 3340),\n",
       "             ('71', 1671),\n",
       "             ('72', 4516),\n",
       "             ('73', 1164),\n",
       "             ('74', 493),\n",
       "             ('75', 3142),\n",
       "             ('76', 1999),\n",
       "             ('77', 1292),\n",
       "             ('78', 3399),\n",
       "             ('79', 2168),\n",
       "             ('80', 2035),\n",
       "             ('81', 1250),\n",
       "             ('82', 1837),\n",
       "             ('83', 423),\n",
       "             ('84', 874),\n",
       "             ('85', 1050),\n",
       "             ('86', 3337),\n",
       "             ('87', 788),\n",
       "             ('88', 753),\n",
       "             ('89', 896),\n",
       "             ('90', 4930),\n",
       "             ('91', 4795),\n",
       "             ('92', 4477),\n",
       "             ('93', 4915),\n",
       "             ('94', 4943),\n",
       "             ('95', 4662),\n",
       "             ('96', 4947),\n",
       "             ('97', 4949),\n",
       "             ('98', 4953),\n",
       "             ('99', 4950),\n",
       "             ('107', 314),\n",
       "             ('108', 4960),\n",
       "             ('109', 4960),\n",
       "             ('110', 4960),\n",
       "             ('111', 4949),\n",
       "             ('112', 4960),\n",
       "             ('113', 4960),\n",
       "             ('114', 4960),\n",
       "             ('115', 4960),\n",
       "             ('116', 4960),\n",
       "             ('117', 4960),\n",
       "             ('118', 4960),\n",
       "             ('119', 4960)])"
      ]
     },
     "execution_count": 55,
     "metadata": {},
     "output_type": "execute_result"
    }
   ],
   "source": [
    "directories"
   ]
  },
  {
   "cell_type": "code",
   "execution_count": 56,
   "metadata": {},
   "outputs": [],
   "source": [
    "if os.path.exists('/home/smoothjazzuser/videogame-anomoly/MNAD/dataset/frame_labels_bugs.npy'):\n",
    "    !rm '/home/smoothjazzuser/videogame-anomoly/MNAD/dataset/frame_labels_bugs.npy'\n",
    "if inference == 'all':\n",
    "    !ln -s '/home/smoothjazzuser/videogame-anomoly/MNAD/dataset/bugs/symlink_loc/GTall/frame_labels_bugs.npy' '/home/smoothjazzuser/videogame-anomoly/MNAD/dataset/frame_labels_bugs.npy'\n",
    "else:\n",
    "    !ln -s '/home/smoothjazzuser/videogame-anomoly/MNAD/dataset/bugs/symlink_loc/GT'$inference'/frame_labels_bugs.npy' '/home/smoothjazzuser/videogame-anomoly/MNAD/dataset/frame_labels_bugs.npy'"
   ]
  },
  {
   "cell_type": "code",
   "execution_count": 57,
   "metadata": {},
   "outputs": [],
   "source": [
    "# #rename all files within subdirectories of /home/smoothjazzuser/videogame-anomoly/MNAD/dataset/bugs/symlink_loc/ to be in the format of '000.png'\n",
    "# import glob\n",
    "# for folder in glob.glob('/home/smoothjazzuser/videogame-anomoly/MNAD/dataset/bugs/training/frames/*'):\n",
    "#     if os.path.isdir(folder):\n",
    "#         print(folder)\n",
    "#         for i, file in enumerate(glob.glob(folder + '/*.png')):\n",
    "#             os.rename(file, folder + '/' + file.split(\"_\")[-1])\n",
    "#             #print(f\"fake renamed {file} to {folder + '/' + file.split('_')[-1]}\")"
   ]
  },
  {
   "cell_type": "code",
   "execution_count": 58,
   "metadata": {},
   "outputs": [
    {
     "name": "stdout",
     "output_type": "stream",
     "text": [
      "(1, 492723)\n"
     ]
    },
    {
     "data": {
      "text/plain": [
       "396078"
      ]
     },
     "execution_count": 58,
     "metadata": {},
     "output_type": "execute_result"
    }
   ],
   "source": [
    "test = np.load('/home/smoothjazzuser/videogame-anomoly/MNAD/dataset/frame_labels_bugs.npy', allow_pickle=True)\n",
    "print(test.shape)\n",
    "(sum(directories.values()))"
   ]
  }
 ],
 "metadata": {
  "kernelspec": {
   "display_name": "Python 3.9.13 ('base')",
   "language": "python",
   "name": "python3"
  },
  "language_info": {
   "codemirror_mode": {
    "name": "ipython",
    "version": 3
   },
   "file_extension": ".py",
   "mimetype": "text/x-python",
   "name": "python",
   "nbconvert_exporter": "python",
   "pygments_lexer": "ipython3",
   "version": "3.9.13"
  },
  "orig_nbformat": 4,
  "vscode": {
   "interpreter": {
    "hash": "18f39d5a9bfe4d0ce9b1ccd808a3754df6677d81d118bc81d2886eb8b9b7056c"
   }
  }
 },
 "nbformat": 4,
 "nbformat_minor": 2
}
