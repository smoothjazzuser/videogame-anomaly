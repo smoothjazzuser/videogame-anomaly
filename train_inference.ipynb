{
 "cells": [
  {
   "cell_type": "code",
   "execution_count": 1,
   "metadata": {},
   "outputs": [],
   "source": [
    "import os\n",
    "import glob\n",
    "import numpy as np\n",
    "from collections import OrderedDict"
   ]
  },
  {
   "cell_type": "code",
   "execution_count": 2,
   "metadata": {},
   "outputs": [],
   "source": [
    "inference = 'all' # '000' through '029' or 'all'\n"
   ]
  },
  {
   "cell_type": "code",
   "execution_count": 3,
   "metadata": {},
   "outputs": [],
   "source": [
    "#check if frames exists:\n",
    "if os.path.exists('/home/smoothjazzuser/videogame-anomoly/MNAD/dataset/bugs/testing/frames'):\n",
    "    !rm -r '/home/smoothjazzuser/videogame-anomoly/MNAD/dataset/bugs/testing/frames'\n",
    "\n",
    "if inference == 'all':\n",
    "    !ln -s '/home/smoothjazzuser/videogame-anomoly/MNAD/dataset/bugs/symlink_loc/' '/home/smoothjazzuser/videogame-anomoly/MNAD/dataset/bugs/testing/frames'\n",
    "else:\n",
    "    if not os.path.exists('/home/smoothjazzuser/videogame-anomoly/MNAD/dataset/bugs/testing/frames'):\n",
    "        !mkdir '/home/smoothjazzuser/videogame-anomoly/MNAD/dataset/bugs/testing/frames/'\n",
    "    !ln -s '/home/smoothjazzuser/videogame-anomoly/MNAD/dataset/bugs/symlink_loc/'$inference '/home/smoothjazzuser/videogame-anomoly/MNAD/dataset/bugs/testing/frames/'$inference\n",
    "\n"
   ]
  },
  {
   "cell_type": "code",
   "execution_count": 4,
   "metadata": {},
   "outputs": [
    {
     "data": {
      "text/plain": [
       "array([0, 0, 0, ..., 0, 0, 0])"
      ]
     },
     "execution_count": 4,
     "metadata": {},
     "output_type": "execute_result"
    }
   ],
   "source": [
    "frame_labels_bugs = np.load('/home/smoothjazzuser/videogame-anomoly/MNAD/dataset/bugs/symlink_loc/GTall/frame_labels_bugs.npy', allow_pickle=True)\n",
    "\n",
    "# expand dims and save again\n",
    "#frame_labels_bugs = np.expand_dims(frame_labels_bugs, axis=0)\n",
    "frame_labels_bugs[0]\n",
    "#np.save('/home/smoothjazzuser/videogame-anomoly/MNAD/dataset/bugs/testing/frames/frame_labels_bugs.npy', frame_labels_bugs)"
   ]
  },
  {
   "cell_type": "code",
   "execution_count": 5,
   "metadata": {},
   "outputs": [
    {
     "name": "stdout",
     "output_type": "stream",
     "text": [
      "OrderedDict([('01', 1413), ('02', 1545), ('03', 2375), ('04', 3145), ('05', 3630), ('06', 8643), ('07', 15836), ('08', 6253), ('09', 744), ('10', 3160), ('11', 1267), ('12', 1796), ('13', 843), ('14', 8641), ('15', 1438), ('16', 3755), ('17', 8097), ('18', 16178), ('19', 2289), ('20', 7730), ('21', 2114), ('22', 1126), ('23', 1538), ('24', 3606), ('25', 15796), ('26', 1260), ('27', 4051), ('28', 1921), ('29', 8991), ('30', 12924), ('31', 14854), ('32', 626), ('33', 4014), ('34', 1903), ('35', 16290), ('36', 1749), ('37', 2499), ('38', 1572), ('39', 3318), ('40', 964), ('41', 1644), ('42', 1292), ('43', 783), ('44', 3595), ('45', 506), ('46', 777), ('47', 1706), ('48', 2411), ('49', 3155), ('50', 2866), ('51', 5328), ('52', 999), ('53', 7647), ('54', 3103), ('55', 1390), ('56', 1106), ('57', 2238), ('58', 4460), ('59', 1367), ('60', 348), ('61', 390), ('62', 919), ('63', 529), ('64', 2160), ('65', 469), ('66', 2193), ('67', 244), ('68', 1315), ('69', 1774), ('70', 156), ('71', 717), ('72', 1836), ('73', 648), ('74', 1006), ('75', 1496), ('76', 1772), ('77', 2581), ('78', 566), ('79', 1525), ('80', 1863), ('81', 674), ('82', 1410), ('83', 1702), ('84', 1828), ('85', 1198), ('86', 2194), ('87', 1207), ('88', 1794), ('89', 1431), ('90', 1626), ('91', 2642), ('92', 4004), ('93', 1074), ('94', 1714), ('95', 1800), ('96', 2757), ('97', 1276), ('98', 4555), ('99', 2004), ('100', 1404), ('101', 1899), ('102', 21682), ('103', 3631), ('104', 1410), ('105', 306), ('106', 1875), ('107', 5089), ('108', 8288), ('109', 2742), ('110', 4345), ('111', 6674), ('112', 1968), ('113', 5125), ('114', 2737), ('115', 2257), ('116', 1484), ('117', 458), ('118', 5771), ('119', 3552), ('120', 2192), ('121', 1874), ('122', 1358), ('123', 2177), ('124', 448), ('125', 900), ('126', 11938), ('127', 1387), ('128', 2804), ('129', 14556), ('130', 2150), ('131', 4912), ('132', 2504), ('133', 4992), ('134', 1561), ('135', 5847), ('136', 1147), ('137', 2983), ('138', 1012), ('139', 4496), ('140', 1444)])\n"
     ]
    }
   ],
   "source": [
    "# load numpy file\n",
    "#sorted(glob.glob(f\"/home/smoothjazzuser/videogame-anomoly/MNAD/dataset/bugs/testing/frames/54/*.jpg\"), key=lambda x: int(x.split('/')[-1].split('.')[0]))\n",
    "if True:\n",
    "    frame_labels_bugs = np.load('/home/smoothjazzuser/videogame-anomoly/MNAD/dataset/bugs/symlink_loc/GTall/frame_labels_bugs.npy', allow_pickle=True)\n",
    "\n",
    "    # list directories in /home/smoothjazzuser/videogame-anomoly/MNAD/dataset/bugs/testing/frames/ using glob\n",
    "    # glob returns a list of all files in the directory\n",
    "    dd = glob.glob('/home/smoothjazzuser/videogame-anomoly/MNAD/dataset/bugs/testing/frames/*')\n",
    "    dd.sort()\n",
    "    directories = [x.split('/')[-1] for x in dd if x.split('/')[-1].isdigit()]\n",
    "    directories.sort()\n",
    "    directories = {d:len(glob.glob('/home/smoothjazzuser/videogame-anomoly/MNAD/dataset/bugs/testing/frames/' + d + '/*.jpg')) for d in directories if os.path.exists('/home/smoothjazzuser/videogame-anomoly/MNAD/dataset/bugs/testing/frames/' + d)}\n",
    "    directories = OrderedDict(sorted(directories.items(), key=lambda x: int(x[0])))\n",
    "    print(directories)\n",
    "    iterate = 0\n",
    "    for folder, num_frames in directories.items():\n",
    "        if not os.path.exists('/home/smoothjazzuser/videogame-anomoly/MNAD/dataset/bugs/testing/frames/' + folder):\n",
    "            !mkdir '/home/smoothjazzuser/videogame-anomoly/MNAD/dataset/bugs/testing/frames/'$folder\n",
    "\n",
    "            print(folder, num_frames)\n",
    "        if not os.path.exists('/home/smoothjazzuser/videogame-anomoly/MNAD/dataset/bugs/symlink_loc/GT' + folder + '/frame_labels_bugs.npy'):\n",
    "            !mkdir '/home/smoothjazzuser/videogame-anomoly/MNAD/dataset/bugs/symlink_loc/GT'$folder\n",
    "            # seperate the labels for each folder from the frame_labels_bugs\n",
    "            print(folder, num_frames)\n",
    "            labels = frame_labels_bugs[0][iterate:iterate+int(num_frames)]\n",
    "            iterate += num_frames\n",
    "            np.save('/home/smoothjazzuser/videogame-anomoly/MNAD/dataset/bugs/symlink_loc/GT' + folder + '/frame_labels_bugs.npy', np.array(np.expand_dims(np.array(labels), axis=0)))"
   ]
  },
  {
   "cell_type": "code",
   "execution_count": 6,
   "metadata": {},
   "outputs": [
    {
     "data": {
      "text/plain": [
       "463035"
      ]
     },
     "execution_count": 6,
     "metadata": {},
     "output_type": "execute_result"
    }
   ],
   "source": [
    "frame_labels_bugs.shape[1]"
   ]
  },
  {
   "cell_type": "code",
   "execution_count": 7,
   "metadata": {},
   "outputs": [
    {
     "data": {
      "text/plain": [
       "OrderedDict([('01', 1413),\n",
       "             ('02', 1545),\n",
       "             ('03', 2375),\n",
       "             ('04', 3145),\n",
       "             ('05', 3630),\n",
       "             ('06', 8643),\n",
       "             ('07', 15836),\n",
       "             ('08', 6253),\n",
       "             ('09', 744),\n",
       "             ('10', 3160),\n",
       "             ('11', 1267),\n",
       "             ('12', 1796),\n",
       "             ('13', 843),\n",
       "             ('14', 8641),\n",
       "             ('15', 1438),\n",
       "             ('16', 3755),\n",
       "             ('17', 8097),\n",
       "             ('18', 16178),\n",
       "             ('19', 2289),\n",
       "             ('20', 7730),\n",
       "             ('21', 2114),\n",
       "             ('22', 1126),\n",
       "             ('23', 1538),\n",
       "             ('24', 3606),\n",
       "             ('25', 15796),\n",
       "             ('26', 1260),\n",
       "             ('27', 4051),\n",
       "             ('28', 1921),\n",
       "             ('29', 8991),\n",
       "             ('30', 12924),\n",
       "             ('31', 14854),\n",
       "             ('32', 626),\n",
       "             ('33', 4014),\n",
       "             ('34', 1903),\n",
       "             ('35', 16290),\n",
       "             ('36', 1749),\n",
       "             ('37', 2499),\n",
       "             ('38', 1572),\n",
       "             ('39', 3318),\n",
       "             ('40', 964),\n",
       "             ('41', 1644),\n",
       "             ('42', 1292),\n",
       "             ('43', 783),\n",
       "             ('44', 3595),\n",
       "             ('45', 506),\n",
       "             ('46', 777),\n",
       "             ('47', 1706),\n",
       "             ('48', 2411),\n",
       "             ('49', 3155),\n",
       "             ('50', 2866),\n",
       "             ('51', 5328),\n",
       "             ('52', 999),\n",
       "             ('53', 7647),\n",
       "             ('54', 3103),\n",
       "             ('55', 1390),\n",
       "             ('56', 1106),\n",
       "             ('57', 2238),\n",
       "             ('58', 4460),\n",
       "             ('59', 1367),\n",
       "             ('60', 348),\n",
       "             ('61', 390),\n",
       "             ('62', 919),\n",
       "             ('63', 529),\n",
       "             ('64', 2160),\n",
       "             ('65', 469),\n",
       "             ('66', 2193),\n",
       "             ('67', 244),\n",
       "             ('68', 1315),\n",
       "             ('69', 1774),\n",
       "             ('70', 156),\n",
       "             ('71', 717),\n",
       "             ('72', 1836),\n",
       "             ('73', 648),\n",
       "             ('74', 1006),\n",
       "             ('75', 1496),\n",
       "             ('76', 1772),\n",
       "             ('77', 2581),\n",
       "             ('78', 566),\n",
       "             ('79', 1525),\n",
       "             ('80', 1863),\n",
       "             ('81', 674),\n",
       "             ('82', 1410),\n",
       "             ('83', 1702),\n",
       "             ('84', 1828),\n",
       "             ('85', 1198),\n",
       "             ('86', 2194),\n",
       "             ('87', 1207),\n",
       "             ('88', 1794),\n",
       "             ('89', 1431),\n",
       "             ('90', 1626),\n",
       "             ('91', 2642),\n",
       "             ('92', 4004),\n",
       "             ('93', 1074),\n",
       "             ('94', 1714),\n",
       "             ('95', 1800),\n",
       "             ('96', 2757),\n",
       "             ('97', 1276),\n",
       "             ('98', 4555),\n",
       "             ('99', 2004),\n",
       "             ('100', 1404),\n",
       "             ('101', 1899),\n",
       "             ('102', 21682),\n",
       "             ('103', 3631),\n",
       "             ('104', 1410),\n",
       "             ('105', 306),\n",
       "             ('106', 1875),\n",
       "             ('107', 5089),\n",
       "             ('108', 8288),\n",
       "             ('109', 2742),\n",
       "             ('110', 4345),\n",
       "             ('111', 6674),\n",
       "             ('112', 1968),\n",
       "             ('113', 5125),\n",
       "             ('114', 2737),\n",
       "             ('115', 2257),\n",
       "             ('116', 1484),\n",
       "             ('117', 458),\n",
       "             ('118', 5771),\n",
       "             ('119', 3552),\n",
       "             ('120', 2192),\n",
       "             ('121', 1874),\n",
       "             ('122', 1358),\n",
       "             ('123', 2177),\n",
       "             ('124', 448),\n",
       "             ('125', 900),\n",
       "             ('126', 11938),\n",
       "             ('127', 1387),\n",
       "             ('128', 2804),\n",
       "             ('129', 14556),\n",
       "             ('130', 2150),\n",
       "             ('131', 4912),\n",
       "             ('132', 2504),\n",
       "             ('133', 4992),\n",
       "             ('134', 1561),\n",
       "             ('135', 5847),\n",
       "             ('136', 1147),\n",
       "             ('137', 2983),\n",
       "             ('138', 1012),\n",
       "             ('139', 4496),\n",
       "             ('140', 1444)])"
      ]
     },
     "execution_count": 7,
     "metadata": {},
     "output_type": "execute_result"
    }
   ],
   "source": [
    "directories"
   ]
  },
  {
   "cell_type": "code",
   "execution_count": 8,
   "metadata": {},
   "outputs": [],
   "source": [
    "if os.path.exists('/home/smoothjazzuser/videogame-anomoly/MNAD/dataset/frame_labels_bugs.npy'):\n",
    "    !rm '/home/smoothjazzuser/videogame-anomoly/MNAD/dataset/frame_labels_bugs.npy'\n",
    "if inference == 'all':\n",
    "    !ln -s '/home/smoothjazzuser/videogame-anomoly/MNAD/dataset/bugs/symlink_loc/GTall/frame_labels_bugs.npy' '/home/smoothjazzuser/videogame-anomoly/MNAD/dataset/frame_labels_bugs.npy'\n",
    "else:\n",
    "    !ln -s '/home/smoothjazzuser/videogame-anomoly/MNAD/dataset/bugs/symlink_loc/GT'$inference'/frame_labels_bugs.npy' '/home/smoothjazzuser/videogame-anomoly/MNAD/dataset/frame_labels_bugs.npy'"
   ]
  },
  {
   "cell_type": "code",
   "execution_count": 9,
   "metadata": {},
   "outputs": [],
   "source": [
    "# #rename all folders with numeric names within '/home/smoothjazzuser/videogame-anomoly/MNAD/dataset/bugs/symlink_loc/' from 01 to 100...\n",
    "if False: \n",
    "    for folder_path in glob.glob('/home/smoothjazzuser/videogame-anomoly/MNAD/dataset/bugs/symlink_loc/*'):\n",
    "        if folder_path.split('/')[-1].isdigit():\n",
    "            new_folder_path = folder_path.split('/')\n",
    "            new_folder_path[-1] = str(int(new_folder_path[-1]) + 1).zfill(2)\n",
    "            new_folder_path = '/'.join(new_folder_path)\n",
    "            !mv $folder_path $new_folder_path"
   ]
  },
  {
   "cell_type": "code",
   "execution_count": 10,
   "metadata": {},
   "outputs": [],
   "source": [
    "if False: \n",
    "    for folder_path in glob.glob('/home/smoothjazzuser/videogame-anomoly/MNAD/dataset/bugs/training/frames/*'):\n",
    "        if folder_path.split('/')[-1].isdigit():\n",
    "            new_folder_path = folder_path.split('/')\n",
    "            new_folder_path[-1] = str(int(new_folder_path[-1]) + 1).zfill(2)\n",
    "            new_folder_path = '/'.join(new_folder_path)\n",
    "            !mv $folder_path $new_folder_path"
   ]
  },
  {
   "cell_type": "code",
   "execution_count": 11,
   "metadata": {},
   "outputs": [],
   "source": [
    "# for len(dir_files) in /home/smoothjazzuser/videogame-anomoly/MNAD/dataset/bugs/training/frames/, ensure num is dividable by 5. if not, remove files until it is\n",
    "if True:\n",
    "    for folder_path in sorted(glob.glob('/home/smoothjazzuser/videogame-anomoly/MNAD/dataset/bugs/training/frames/*'), key=lambda x: int(x.split('/')[-1])):\n",
    "        if folder_path.split('/')[-1].isdigit():\n",
    "            dir_files = sorted(glob.glob(folder_path + '/*'), key=lambda x: int(x.split('/')[-1].split('.')[0]))\n",
    "            if len(dir_files) % 5 != 0:\n",
    "                \n",
    "                # how many files do we need to remove?\n",
    "                num_to_remove = len(dir_files) % 5\n",
    "                #print(folder_path, len(dir_files), num_to_remove, dir_files[-1])\n",
    "\n",
    "                # remove the last num_to_remove files\n",
    "                for i in range(num_to_remove):\n",
    "                    print (dir_files[-1])\n",
    "                    name = dir_files[-1-i]\n",
    "                    !rm -r $name\n",
    "\n",
    "                "
   ]
  },
  {
   "cell_type": "code",
   "execution_count": 12,
   "metadata": {},
   "outputs": [],
   "source": [
    "# # if True:\n",
    "# #     for folder_path in sorted(glob.glob('/home/smoothjazzuser/videogame-anomoly/MNAD/dataset/bugs/symlink_loc/frames/*'), key=lambda x: int(x.split('/')[-1])):\n",
    "# #         if folder_path.split('/')[-1].isdigit():\n",
    "# #             dir_files = sorted(glob.glob(folder_path + '/*'), key=lambda x: int(x.split('/')[-1].split('.')[0]))\n",
    "# #             if len(dir_files) % 5 != 0:\n",
    "                \n",
    "# #                 # how many files do we need to remove?\n",
    "# #                 num_to_remove = len(dir_files) % 5\n",
    "# #                 #print(folder_path, len(dir_files), num_to_remove, dir_files[-1])\n",
    "\n",
    "# #                 # remove the last num_to_remove files\n",
    "# #                 for i in range(num_to_remove):\n",
    "# #                     print (dir_files[-1])\n",
    "# #                     name = dir_files[-1-i]\n",
    "# #                     !rm -r $name"
   ]
  },
  {
   "cell_type": "code",
   "execution_count": 13,
   "metadata": {},
   "outputs": [
    {
     "name": "stdout",
     "output_type": "stream",
     "text": [
      "(1, 463035)\n"
     ]
    },
    {
     "data": {
      "text/plain": [
       "463043"
      ]
     },
     "execution_count": 13,
     "metadata": {},
     "output_type": "execute_result"
    }
   ],
   "source": [
    "test = np.load('/home/smoothjazzuser/videogame-anomoly/MNAD/dataset/frame_labels_bugs.npy', allow_pickle=True)\n",
    "print(test.shape)\n",
    "(sum(directories.values()))"
   ]
  }
 ],
 "metadata": {
  "kernelspec": {
   "display_name": "Python 3.9.13 ('base')",
   "language": "python",
   "name": "python3"
  },
  "language_info": {
   "codemirror_mode": {
    "name": "ipython",
    "version": 3
   },
   "file_extension": ".py",
   "mimetype": "text/x-python",
   "name": "python",
   "nbconvert_exporter": "python",
   "pygments_lexer": "ipython3",
   "version": "3.9.13"
  },
  "orig_nbformat": 4,
  "vscode": {
   "interpreter": {
    "hash": "18f39d5a9bfe4d0ce9b1ccd808a3754df6677d81d118bc81d2886eb8b9b7056c"
   }
  }
 },
 "nbformat": 4,
 "nbformat_minor": 2
}
