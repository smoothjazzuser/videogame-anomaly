{
 "cells": [
  {
   "cell_type": "code",
   "execution_count": 53,
   "metadata": {},
   "outputs": [],
   "source": [
    "import os\n",
    "import glob\n",
    "import numpy as np\n",
    "from collections import OrderedDict"
   ]
  },
  {
   "cell_type": "code",
   "execution_count": 54,
   "metadata": {},
   "outputs": [],
   "source": [
    "inference = '50' # '050' through '29' or 'all'\n"
   ]
  },
  {
   "cell_type": "code",
   "execution_count": 55,
   "metadata": {},
   "outputs": [],
   "source": [
    "#check if frames exists:\n",
    "if os.path.exists('/home/smoothjazzuser/videogame-anomoly/MNAD/dataset/bugs/testing/frames'):\n",
    "    !rm -r '/home/smoothjazzuser/videogame-anomoly/MNAD/dataset/bugs/testing/frames'\n",
    "\n",
    "if inference == 'all':\n",
    "    !ln -s '/home/smoothjazzuser/videogame-anomoly/MNAD/dataset/bugs/symlink_loc/' '/home/smoothjazzuser/videogame-anomoly/MNAD/dataset/bugs/testing/frames'\n",
    "else:\n",
    "    if not os.path.exists('/home/smoothjazzuser/videogame-anomoly/MNAD/dataset/bugs/testing/frames'):\n",
    "        !mkdir '/home/smoothjazzuser/videogame-anomoly/MNAD/dataset/bugs/testing/frames/'\n",
    "    !ln -s '/home/smoothjazzuser/videogame-anomoly/MNAD/dataset/bugs/symlink_loc/'$inference '/home/smoothjazzuser/videogame-anomoly/MNAD/dataset/bugs/testing/frames/'$inference\n",
    "\n"
   ]
  },
  {
   "cell_type": "code",
   "execution_count": 56,
   "metadata": {},
   "outputs": [
    {
     "data": {
      "text/plain": [
       "array([0, 0, 0, ..., 0, 0, 0])"
      ]
     },
     "execution_count": 56,
     "metadata": {},
     "output_type": "execute_result"
    }
   ],
   "source": [
    "frame_labels_bugs = np.load('/home/smoothjazzuser/videogame-anomoly/MNAD/dataset/bugs/symlink_loc/GTall/frame_labels_bugs.npy', allow_pickle=True)\n",
    "\n",
    "# expand dims and save again\n",
    "#frame_labels_bugs = np.expand_dims(frame_labels_bugs, axis=0)\n",
    "frame_labels_bugs[0]\n",
    "#np.save('/home/smoothjazzuser/videogame-anomoly/MNAD/dataset/bugs/testing/frames/frame_labels_bugs.npy', frame_labels_bugs)"
   ]
  },
  {
   "cell_type": "code",
   "execution_count": 57,
   "metadata": {},
   "outputs": [
    {
     "name": "stdout",
     "output_type": "stream",
     "text": [
      "['50']\n"
     ]
    }
   ],
   "source": [
    "# load numpy file\n",
    "#sorted(glob.glob(f\"/home/smoothjazzuser/videogame-anomoly/MNAD/dataset/bugs/testing/frames/54/*.jpg\"), key=lambda x: int(x.split('/')[-1].split('.')[0]))\n",
    "if True:\n",
    "    frame_labels_bugs = np.load('/home/smoothjazzuser/videogame-anomoly/MNAD/dataset/bugs/symlink_loc/GTall/frame_labels_bugs.npy', allow_pickle=True)\n",
    "\n",
    "    # list directories in /home/smoothjazzuser/videogame-anomoly/MNAD/dataset/bugs/testing/frames/ using glob\n",
    "    # glob returns a list of all files in the directory\n",
    "    dd = glob.glob('/home/smoothjazzuser/videogame-anomoly/MNAD/dataset/bugs/testing/frames/*')\n",
    "    dd.sort()\n",
    "    directories = [x.split('/')[-1] for x in dd if x.split('/')[-1].isdigit()]\n",
    "    directories.sort()\n",
    "    directories = {d:len(glob.glob('/home/smoothjazzuser/videogame-anomoly/MNAD/dataset/bugs/testing/frames/' + d + '/*.jpg')) for d in directories if os.path.exists('/home/smoothjazzuser/videogame-anomoly/MNAD/dataset/bugs/testing/frames/' + d)}\n",
    "    directories = OrderedDict(sorted(directories.items(), key=lambda x: int(x[0])))\n",
    "    print(list(directories))\n",
    "    iterate = 0\n",
    "    for folder, num_frames in directories.items():\n",
    "        if not os.path.exists('/home/smoothjazzuser/videogame-anomoly/MNAD/dataset/bugs/testing/frames/' + folder):\n",
    "            !mkdir '/home/smoothjazzuser/videogame-anomoly/MNAD/dataset/bugs/testing/frames/'$folder\n",
    "\n",
    "            print(folder, num_frames)\n",
    "        if not os.path.exists('/home/smoothjazzuser/videogame-anomoly/MNAD/dataset/bugs/symlink_loc/GT' + folder + '/frame_labels_bugs.npy'):\n",
    "            !mkdir '/home/smoothjazzuser/videogame-anomoly/MNAD/dataset/bugs/symlink_loc/GT'$folder\n",
    "            # seperate the labels for each folder from the frame_labels_bugs\n",
    "            print(folder, num_frames)\n",
    "            labels = frame_labels_bugs[0][iterate:iterate+int(num_frames)]\n",
    "            iterate += num_frames\n",
    "            np.save('/home/smoothjazzuser/videogame-anomoly/MNAD/dataset/bugs/symlink_loc/GT' + folder + '/frame_labels_bugs.npy', np.array(np.expand_dims(np.array(labels), axis=0)))"
   ]
  },
  {
   "cell_type": "code",
   "execution_count": 58,
   "metadata": {},
   "outputs": [
    {
     "data": {
      "text/plain": [
       "462903"
      ]
     },
     "execution_count": 58,
     "metadata": {},
     "output_type": "execute_result"
    }
   ],
   "source": [
    "frame_labels_bugs.shape[1]"
   ]
  },
  {
   "cell_type": "code",
   "execution_count": 59,
   "metadata": {},
   "outputs": [
    {
     "data": {
      "text/plain": [
       "OrderedDict([('50', 2866)])"
      ]
     },
     "execution_count": 59,
     "metadata": {},
     "output_type": "execute_result"
    }
   ],
   "source": [
    "directories"
   ]
  },
  {
   "cell_type": "code",
   "execution_count": 60,
   "metadata": {},
   "outputs": [],
   "source": [
    "if os.path.exists('/home/smoothjazzuser/videogame-anomoly/MNAD/dataset/frame_labels_bugs.npy'):\n",
    "    !rm '/home/smoothjazzuser/videogame-anomoly/MNAD/dataset/frame_labels_bugs.npy'\n",
    "if inference == 'all':\n",
    "    !ln -s '/home/smoothjazzuser/videogame-anomoly/MNAD/dataset/bugs/symlink_loc/GTall/frame_labels_bugs.npy' '/home/smoothjazzuser/videogame-anomoly/MNAD/dataset/frame_labels_bugs.npy'\n",
    "else:\n",
    "    !ln -s '/home/smoothjazzuser/videogame-anomoly/MNAD/dataset/bugs/symlink_loc/GT'$inference'/frame_labels_bugs.npy' '/home/smoothjazzuser/videogame-anomoly/MNAD/dataset/frame_labels_bugs.npy'"
   ]
  },
  {
   "cell_type": "code",
   "execution_count": 61,
   "metadata": {},
   "outputs": [],
   "source": [
    "# #rename all folders with numeric names within '/home/smoothjazzuser/videogame-anomoly/MNAD/dataset/bugs/symlink_loc/' from 01 to 100...\n",
    "if False: \n",
    "    for folder_path in glob.glob('/home/smoothjazzuser/videogame-anomoly/MNAD/dataset/bugs/symlink_loc/*'):\n",
    "        if folder_path.split('/')[-1].isdigit():\n",
    "            new_folder_path = folder_path.split('/')\n",
    "            new_folder_path[-1] = str(int(new_folder_path[-1]) + 1).zfill(2)\n",
    "            new_folder_path = '/'.join(new_folder_path)\n",
    "            !mv $folder_path $new_folder_path"
   ]
  },
  {
   "cell_type": "code",
   "execution_count": 62,
   "metadata": {},
   "outputs": [],
   "source": [
    "if False: \n",
    "    for folder_path in glob.glob('/home/smoothjazzuser/videogame-anomoly/MNAD/dataset/bugs/training/frames/*'):\n",
    "        if folder_path.split('/')[-1].isdigit():\n",
    "            new_folder_path = folder_path.split('/')\n",
    "            new_folder_path[-1] = str(int(new_folder_path[-1]) + 1).zfill(2)\n",
    "            new_folder_path = '/'.join(new_folder_path)\n",
    "            !mv $folder_path $new_folder_path"
   ]
  },
  {
   "cell_type": "code",
   "execution_count": 63,
   "metadata": {},
   "outputs": [],
   "source": [
    "# for len(dir_files) in /home/smoothjazzuser/videogame-anomoly/MNAD/dataset/bugs/training/frames/, ensure num is dividable by 5. if not, remove files until it is\n",
    "if False:######################################################3\n",
    "    for folder_path in sorted(glob.glob('/home/smoothjazzuser/videogame-anomoly/MNAD/dataset/bugs/training/frames/*'), key=lambda x: int(x.split('/')[-1])):\n",
    "        if folder_path.split('/')[-1].isdigit():\n",
    "            dir_files = sorted(glob.glob(folder_path + '/*'), key=lambda x: int(x.split('/')[-1].split('.')[0]))\n",
    "            if len(dir_files) % 5 != 0:\n",
    "                \n",
    "                # how many files do we need to remove?\n",
    "                num_to_remove = len(dir_files) % 5\n",
    "                #print(folder_path, len(dir_files), num_to_remove, dir_files[-1])\n",
    "\n",
    "                # remove the last num_to_remove files\n",
    "                for i in range(num_to_remove):\n",
    "                    print (dir_files[-1])\n",
    "                    name = dir_files[-1-i]\n",
    "                    !rm -r $name\n",
    "\n",
    "                "
   ]
  },
  {
   "cell_type": "code",
   "execution_count": 64,
   "metadata": {},
   "outputs": [],
   "source": [
    "# # if True:\n",
    "# #     for folder_path in sorted(glob.glob('/home/smoothjazzuser/videogame-anomoly/MNAD/dataset/bugs/symlink_loc/frames/*'), key=lambda x: int(x.split('/')[-1])):\n",
    "# #         if folder_path.split('/')[-1].isdigit():\n",
    "# #             dir_files = sorted(glob.glob(folder_path + '/*'), key=lambda x: int(x.split('/')[-1].split('.')[0]))\n",
    "# #             if len(dir_files) % 5 != 0:\n",
    "                \n",
    "# #                 # how many files do we need to remove?\n",
    "# #                 num_to_remove = len(dir_files) % 5\n",
    "# #                 #print(folder_path, len(dir_files), num_to_remove, dir_files[-1])\n",
    "\n",
    "# #                 # remove the last num_to_remove files\n",
    "# #                 for i in range(num_to_remove):\n",
    "# #                     print (dir_files[-1])\n",
    "# #                     name = dir_files[-1-i]\n",
    "# #                     !rm -r $name"
   ]
  },
  {
   "cell_type": "code",
   "execution_count": 65,
   "metadata": {},
   "outputs": [
    {
     "name": "stdout",
     "output_type": "stream",
     "text": [
      "(1, 2866)\n"
     ]
    },
    {
     "data": {
      "text/plain": [
       "2866"
      ]
     },
     "execution_count": 65,
     "metadata": {},
     "output_type": "execute_result"
    }
   ],
   "source": [
    "test = np.load('/home/smoothjazzuser/videogame-anomoly/MNAD/dataset/frame_labels_bugs.npy', allow_pickle=True)\n",
    "print(test.shape)\n",
    "(sum(directories.values()))"
   ]
  }
 ],
 "metadata": {
  "kernelspec": {
   "display_name": "Python 3.9.13 ('base')",
   "language": "python",
   "name": "python3"
  },
  "language_info": {
   "codemirror_mode": {
    "name": "ipython",
    "version": 3
   },
   "file_extension": ".py",
   "mimetype": "text/x-python",
   "name": "python",
   "nbconvert_exporter": "python",
   "pygments_lexer": "ipython3",
   "version": "3.9.13"
  },
  "orig_nbformat": 4,
  "vscode": {
   "interpreter": {
    "hash": "18f39d5a9bfe4d0ce9b1ccd808a3754df6677d81d118bc81d2886eb8b9b7056c"
   }
  }
 },
 "nbformat": 4,
 "nbformat_minor": 2
}
