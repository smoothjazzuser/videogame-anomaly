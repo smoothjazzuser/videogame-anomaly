{
 "cells": [
  {
   "cell_type": "code",
   "execution_count": 2,
   "metadata": {},
   "outputs": [],
   "source": [
    "import numpy as np\n",
    "import matplotlib.pyplot as plt\n",
    "from PIL import Image as im\n",
    "import matplotlib.image as mpimg\n",
    "from tqdm.notebook import tqdm\n",
    "from glob import glob\n",
    "import os\n",
    "import cv2\n",
    "from PIL import Image\n",
    "import pandas as pd\n",
    "import shutil\n",
    "from joblib import Parallel, delayed\n",
    "ff = 10000000\n",
    "f = 100\n",
    "\n"
   ]
  },
  {
   "cell_type": "code",
   "execution_count": 3,
   "metadata": {},
   "outputs": [],
   "source": [
    "\n",
    "test_tar = \"/home/smoothjazzuser/Desktop/TEST/\"\n",
    "train_tar = \"/home/smoothjazzuser/Desktop/NORMAL-TRAIN\"\n",
    "test_tar = sorted(glob (test_tar + \"/*/*/*.tar\"), key = lambda x: int(x.split(\"-\")[-1].split(\".\")[0]))\n",
    "\n",
    "train_tar = sorted(glob(train_tar + \"/*/*.tar\"), key = lambda x: int(x.split(\"-\")[-1].split(\".\")[0]))\n",
    "train_tar = pd.DataFrame(train_tar)\n",
    "test_tar = pd.DataFrame(test_tar)\n",
    "\n",
    "if len(train_tar) > 0:\n",
    "    train_tar['dest'] = train_tar[0].apply(lambda x: x[0:-11])\n",
    "    test_tar['dest'] = test_tar[0].apply(lambda x: x[0:-11])\n",
    "\n",
    "    train_tar['dest'][0]\n"
   ]
  },
  {
   "cell_type": "code",
   "execution_count": 6,
   "metadata": {},
   "outputs": [
    {
     "data": {
      "application/vnd.jupyter.widget-view+json": {
       "model_id": "c302a2752f674cf1ab33dcc8caaa9918",
       "version_major": 2,
       "version_minor": 0
      },
      "text/plain": [
       "0it [00:00, ?it/s]"
      ]
     },
     "metadata": {},
     "output_type": "display_data"
    },
    {
     "data": {
      "application/vnd.jupyter.widget-view+json": {
       "model_id": "642b4ba5b7464856874aa32a841ccd3a",
       "version_major": 2,
       "version_minor": 0
      },
      "text/plain": [
       "0it [00:00, ?it/s]"
      ]
     },
     "metadata": {},
     "output_type": "display_data"
    }
   ],
   "source": [
    "#untar the files\n",
    "def untar (tar_file, dest):\n",
    "    os.system(\"tar -xf \" + tar_file + \" -C \" + dest)\n",
    "    return 1\n",
    "\n",
    "#untar the files\n",
    "_ = Parallel(n_jobs = 8)(delayed(untar)(tar_file, dest) for tar_file, dest in tqdm(zip(train_tar[0], train_tar['dest'])))\n",
    "_ = Parallel(n_jobs = 8)(delayed(untar)(tar_file, dest) for tar_file, dest in tqdm(zip(test_tar[0], test_tar['dest'])))"
   ]
  },
  {
   "cell_type": "code",
   "execution_count": 7,
   "metadata": {},
   "outputs": [
    {
     "data": {
      "application/vnd.jupyter.widget-view+json": {
       "model_id": "20c5fe34f5ec4c408ac0793da2d8f90a",
       "version_major": 2,
       "version_minor": 0
      },
      "text/plain": [
       "  0%|          | 0/60 [00:00<?, ?it/s]"
      ]
     },
     "metadata": {},
     "output_type": "display_data"
    },
    {
     "data": {
      "application/vnd.jupyter.widget-view+json": {
       "model_id": "56cd560c11b748c2a29df86eefce4c73",
       "version_major": 2,
       "version_minor": 0
      },
      "text/plain": [
       "  0%|          | 0/119 [00:00<?, ?it/s]"
      ]
     },
     "metadata": {},
     "output_type": "display_data"
    },
    {
     "data": {
      "text/plain": [
       "[1,\n",
       " 1,\n",
       " 1,\n",
       " 1,\n",
       " 1,\n",
       " 1,\n",
       " 1,\n",
       " 1,\n",
       " 1,\n",
       " 1,\n",
       " 1,\n",
       " 1,\n",
       " 1,\n",
       " 1,\n",
       " 1,\n",
       " 1,\n",
       " 1,\n",
       " 1,\n",
       " 1,\n",
       " 1,\n",
       " 1,\n",
       " 1,\n",
       " 1,\n",
       " 1,\n",
       " 1,\n",
       " 1,\n",
       " 1,\n",
       " 1,\n",
       " 1,\n",
       " 1,\n",
       " 1,\n",
       " 1,\n",
       " 1,\n",
       " 1,\n",
       " 1,\n",
       " 1,\n",
       " 1,\n",
       " 1,\n",
       " 1,\n",
       " 1,\n",
       " 1,\n",
       " 1,\n",
       " 1,\n",
       " 1,\n",
       " 1,\n",
       " 1,\n",
       " 1,\n",
       " 1,\n",
       " 1,\n",
       " 1,\n",
       " 1,\n",
       " 1,\n",
       " 1,\n",
       " 1,\n",
       " 1,\n",
       " 1,\n",
       " 1,\n",
       " 1,\n",
       " 1,\n",
       " 1,\n",
       " 1,\n",
       " 1,\n",
       " 1,\n",
       " 1,\n",
       " 1,\n",
       " 1,\n",
       " 1,\n",
       " 1,\n",
       " 1,\n",
       " 1,\n",
       " 1,\n",
       " 1,\n",
       " 1,\n",
       " 1,\n",
       " 1,\n",
       " 1,\n",
       " 1,\n",
       " 1,\n",
       " 1,\n",
       " 1,\n",
       " 1,\n",
       " 1,\n",
       " 1,\n",
       " 1,\n",
       " 1,\n",
       " 1,\n",
       " 1,\n",
       " 1,\n",
       " 1,\n",
       " 1,\n",
       " 1,\n",
       " 1,\n",
       " 1,\n",
       " 1,\n",
       " 1,\n",
       " 1,\n",
       " 1,\n",
       " 1,\n",
       " 1,\n",
       " 1,\n",
       " 1,\n",
       " 1,\n",
       " 1,\n",
       " 1,\n",
       " 1,\n",
       " 1,\n",
       " 1,\n",
       " 1,\n",
       " 1,\n",
       " 1,\n",
       " 1,\n",
       " 1,\n",
       " 1,\n",
       " 1,\n",
       " 1,\n",
       " 1,\n",
       " 1,\n",
       " 1,\n",
       " 1]"
      ]
     },
     "execution_count": 7,
     "metadata": {},
     "output_type": "execute_result"
    }
   ],
   "source": [
    "# delete the tar files\n",
    "def delete_tar (tar_file):\n",
    "    os.system(\"rm \" + tar_file)\n",
    "    return 1\n",
    "\n",
    "Parallel(n_jobs = 8)(delayed(delete_tar)(tar_file) for tar_file in tqdm(train_tar[0]))\n",
    "Parallel(n_jobs = 8)(delayed(delete_tar)(tar_file) for tar_file in tqdm(test_tar[0]))"
   ]
  },
  {
   "cell_type": "code",
   "execution_count": 10,
   "metadata": {},
   "outputs": [],
   "source": [
    "\n",
    "\n",
    "def vis(img): #reorders array to be compatible with matplotlib\n",
    "    im = np.moveaxis(img,0, -1)\n",
    "    plt.imshow(im)\n",
    "    plt.show()\n",
    "\n",
    "\n",
    "def numpy_to_image(img, path): #converts numpy array to image\n",
    "    if not os.path.exists(f'{path}.png'):\n",
    "        img = np.moveaxis(img,0, -1)\n",
    "        #img = np.dot(img[...,:3], [0.299, 0.587, 0.114]) \n",
    "        mpimg.imsave(f'{path}.png', img)#, cmap='gray')\n",
    "        #Image.fromarray(img).save(f'{path}.png')\n",
    "        return 0,0\n",
    "    else:\n",
    "        img = np.moveaxis(img,0, -1)\n",
    "        print(f'{path}.png')\n",
    "        b=\"/\".join(path.split('/')[0:-2])\n",
    "        bb = int(path.split('/')[-1])+1\n",
    "        #img = np.dot(img[...,:3], [0.299, 0.587, 0.114]) \n",
    "        mpimg.imsave(f\"\"\"{b}{bb}.png\"\"\", img)#,cmap='gray')\n",
    "        #Image.fromarray(img).save(f\"\"\"{b}{bb}.png\"\"\")\n",
    "        return 1,0\n",
    "def binarize(i):\n",
    "    return 1 if i > 0 else 0\n",
    "\n",
    "# name = test_mask(f, False)\n",
    "#print(name)\n",
    "\n",
    "test_data = np.load(f'/home/smoothjazzuser/Desktop/NORMAL-TRAIN/ep-0000/00000000.npz', allow_pickle=True)\n",
    "test_data.files\n",
    "test_data['state'].shape\n",
    "tr = \"/home/smoothjazzuser/videogame-anomoly/MNAD/dataset/bugs/training/frames/\"\n",
    "te = \"/home/smoothjazzuser/videogame-anomoly/MNAD/dataset/bugs/testing/frames/\"\n",
    "#\n",
    "#glob('/home/smoothjazzuser/Desktop/fast/TEST/*')\n",
    "#glob('/home/smoothjazzuser/Desktop/fast/TEST/BlackScreen/*/*.npz')"
   ]
  },
  {
   "cell_type": "code",
   "execution_count": 11,
   "metadata": {},
   "outputs": [],
   "source": [
    "#make sure each dataset contains multiples of five images\n",
    "def check_dataset(path):\n",
    "    for i in glob(path + '/*'):\n",
    "        files = glob(i + '/*')\n",
    "        num = len(files)\n",
    "        div = num/5\n",
    "        if div % 1 != 0:\n",
    "            print(i, num, div)\n",
    "        \n",
    "\n",
    "check_dataset(tr)\n",
    "check_dataset(te)"
   ]
  },
  {
   "cell_type": "code",
   "execution_count": 12,
   "metadata": {},
   "outputs": [
    {
     "data": {
      "application/vnd.jupyter.widget-view+json": {
       "model_id": "c04ceda37ae64db3909f4951326acb96",
       "version_major": 2,
       "version_minor": 0
      },
      "text/plain": [
       "  0%|          | 0/10 [00:00<?, ?it/s]"
      ]
     },
     "metadata": {},
     "output_type": "display_data"
    }
   ],
   "source": [
    "#sorted(glob.glob(f\"/home/smoothjazzuser/videogame-anomoly/MNAD/dataset/bugs/testing/frames/54/*.png\"), key=lambda x: int(x.split('/')[-1].split('.')[0]))\n",
    "\n",
    "masked_list = []\n",
    "folder_count = 0\n",
    "# for every file in each bug type folder, save the image to the corresponding folder under MNAD\n",
    "with tqdm(total=len(glob('/home/smoothjazzuser/Desktop/TEST/*'))) as t:\n",
    "    for i in glob('/home/smoothjazzuser/Desktop/TEST/*'):\n",
    "        \n",
    "        ff = glob(f'{i}/*')\n",
    "        ff.sort()\n",
    "\n",
    "        for ii in ff:\n",
    "            \n",
    "            counter = 0\n",
    "            folder_count+=1\n",
    "            if len(str(folder_count)) >= 2:\n",
    "                    f_name = '' + str(folder_count)\n",
    "            else:\n",
    "                f_name = '0' + str(folder_count)\n",
    "\n",
    "            images = glob(f'{ii}/*.npz')\n",
    "            images.sort()\n",
    "\n",
    "            for j in images:\n",
    "                \n",
    "                if len(str(counter)) >= 3:\n",
    "                    name = str(counter)\n",
    "                elif len(str(counter)) == 2:\n",
    "                    name = '0' + str(counter)\n",
    "                else:\n",
    "                    name = '00' + str(counter)\n",
    "                \n",
    "                data = np.load(j, allow_pickle=True)\n",
    "                masked_list.append(binarize(np.sum(data['info'][1])))\n",
    "                if not os.path.exists(f\"{te + f_name}\"):\n",
    "                    os.makedirs(f\"{te + f_name}\")\n",
    "                c, f =numpy_to_image(data['state'], te + f_name + \"/\" + name)\n",
    "                counter += c\n",
    "                folder_count += f\n",
    "                counter+=1\n",
    "            \n",
    "    t.update(1)\n",
    "\n",
    "np.save('frame_labels_bugs.npy', np.array(np.expand_dims(np.array(masked_list), axis=0)))"
   ]
  },
  {
   "cell_type": "code",
   "execution_count": 13,
   "metadata": {},
   "outputs": [
    {
     "data": {
      "text/plain": [
       "227"
      ]
     },
     "execution_count": 13,
     "metadata": {},
     "output_type": "execute_result"
    }
   ],
   "source": [
    "del masked_list\n",
    "import gc\n",
    "gc.collect()"
   ]
  },
  {
   "cell_type": "code",
   "execution_count": 14,
   "metadata": {},
   "outputs": [
    {
     "data": {
      "application/vnd.jupyter.widget-view+json": {
       "model_id": "40f1b6f2aba443838d5d20067c7d82c5",
       "version_major": 2,
       "version_minor": 0
      },
      "text/plain": [
       "  0%|          | 0/61 [00:00<?, ?it/s]"
      ]
     },
     "metadata": {},
     "output_type": "display_data"
    }
   ],
   "source": [
    "folder_count = 0\n",
    "for i in tqdm(glob('/home/smoothjazzuser/Desktop/NORMAL-TRAIN/*')):\n",
    "\n",
    "    folder_count+=1\n",
    "    if len(str(folder_count)) >= 2:\n",
    "        f_name = '' + str(folder_count)\n",
    "    else:\n",
    "        f_name = '0' + str(folder_count)\n",
    "    counter = -1\n",
    "    if not os.path.exists(f\"{tr + f_name}\"):\n",
    "            os.makedirs(f\"{tr + f_name}\")\n",
    "    \n",
    "    images = glob(f'{i}/*.npz')\n",
    "    images.sort()\n",
    "\n",
    "    for j in images:\n",
    "        counter+=1\n",
    "        if len(str(counter)) >= 3:\n",
    "            name = str(counter)\n",
    "        elif len(str(counter)) == 2:\n",
    "            name = '0' + str(counter)\n",
    "        else:\n",
    "            name = '00' + str(counter)\n",
    "                \n",
    "        data = np.load(j, allow_pickle=True)\n",
    "        #masked_list.append(np.sum(data['info'][1]))\n",
    "        numpy_to_image(data['state'], tr + f_name + \"/\" + name)\n",
    "        \n",
    "    "
   ]
  },
  {
   "cell_type": "code",
   "execution_count": 15,
   "metadata": {},
   "outputs": [],
   "source": [
    "if not os.path.exists('/home/smoothjazzuser/videogame-anomoly/MNAD/dataset/bugs/symlink_loc/GTall/'):\n",
    "    os.makedirs('/home/smoothjazzuser/videogame-anomoly/MNAD/dataset/bugs/symlink_loc/GTall/')"
   ]
  },
  {
   "cell_type": "code",
   "execution_count": 16,
   "metadata": {},
   "outputs": [],
   "source": [
    "# move frame_labels_bugs.npy to MNAD/dataset/frame_labels_bugs.npy\n",
    "\n",
    "if not os.path.exists('/home/smoothjazzuser/videogame-anomoly/MNAD/dataset/bugs/symlink_loc/GTall/frame_labels_bugs.npy'):\n",
    "    shutil.copy('/home/smoothjazzuser/videogame-anomoly/frame_labels_bugs.npy', '/home/smoothjazzuser/videogame-anomoly/MNAD/dataset/bugs/symlink_loc/GTall/frame_labels_bugs.npy')"
   ]
  },
  {
   "cell_type": "code",
   "execution_count": 17,
   "metadata": {},
   "outputs": [],
   "source": [
    "#rename frames folder to full\n",
    "if not os.path.exists('/home/smoothjazzuser/videogame-anomoly/MNAD/dataset/bugs/training/full'):\n",
    "    os.rename('/home/smoothjazzuser/videogame-anomoly/MNAD/dataset/bugs/training/frames', '/home/smoothjazzuser/videogame-anomoly/MNAD/dataset/bugs/training/full')"
   ]
  },
  {
   "cell_type": "code",
   "execution_count": 18,
   "metadata": {},
   "outputs": [],
   "source": [
    "#move files from /home/smoothjazzuser/videogame-anomoly/MNAD/dataset/bugs/testing/frames t/home/smoothjazzuser/videogame-anomoly/MNAD/dataset/bugs/symlink_loc\n",
    "if not os.path.exists('/home/smoothjazzuser/videogame-anomoly/MNAD/dataset/bugs/symlink_loc/01'):\n",
    "    shutil.move('/home/smoothjazzuser/videogame-anomoly/MNAD/dataset/bugs/testing/frames', '/home/smoothjazzuser/videogame-anomoly/MNAD/dataset/bugs/symlink_loc')\n",
    "    #move files from symlink_loc/frames to symlink_loc\n",
    "    for i in glob('/home/smoothjazzuser/videogame-anomoly/MNAD/dataset/bugs/symlink_loc/frames/*'):\n",
    "        shutil.move(i, '/home/smoothjazzuser/videogame-anomoly/MNAD/dataset/bugs/symlink_loc')"
   ]
  },
  {
   "cell_type": "code",
   "execution_count": 26,
   "metadata": {},
   "outputs": [],
   "source": [
    "# create folder structure for testing on the entire dataset\n",
    "all_files_in_symlink_loc = glob('/home/smoothjazzuser/videogame-anomoly/MNAD/dataset/bugs/symlink_loc/*/*.png') +  glob('/home/smoothjazzuser/videogame-anomoly/MNAD/dataset/bugs/symlink_loc/*/*.jpg')\n",
    "# sort by folder name and then by file integer name\n",
    "all_files_in_symlink_loc = sorted(all_files_in_symlink_loc, key=lambda x: (x.split('/')[-2], int(x.split('/')[-1].split('.')[0])))\n",
    "all_files_in_symlink_loc\n",
    "if not os.path.exists(\"/home/smoothjazzuser/videogame-anomoly/MNAD/dataset/bugs/all_testing\"):\n",
    "    os.makedirs(\"/home/smoothjazzuser/videogame-anomoly/MNAD/dataset/bugs/all_testing\")\n",
    "if not os.path.exists(\"/home/smoothjazzuser/videogame-anomoly/MNAD/dataset/bugs/all_testing/1\"):\n",
    "    os.makedirs(\"/home/smoothjazzuser/videogame-anomoly/MNAD/dataset/bugs/all_testing/1\")"
   ]
  },
  {
   "cell_type": "code",
   "execution_count": 29,
   "metadata": {},
   "outputs": [],
   "source": [
    "# create symlink to all_testing/1 for all files in all_files_in_symlink_loc\n",
    "for i,p in enumerate(all_files_in_symlink_loc):\n",
    "    k = str(i).zfill(3)\n",
    "    os.symlink(p, f\"/home/smoothjazzuser/videogame-anomoly/MNAD/dataset/bugs/all_testing/1/{k}.png\")"
   ]
  },
  {
   "cell_type": "code",
   "execution_count": 30,
   "metadata": {},
   "outputs": [],
   "source": [
    "# move /home/smoothjazzuser/videogame-anomoly/MNAD/dataset/bugs/1000 to /home/smoothjazzuser/videogame-anomoly/MNAD/dataset/bugs/symlink_loc/1000\n",
    "if not os.path.exists(\"/home/smoothjazzuser/videogame-anomoly/MNAD/dataset/bugs/symlink_loc/1000\"):\n",
    "    shutil.move(\"/home/smoothjazzuser/videogame-anomoly/MNAD/dataset/bugs/1000\", \"/home/smoothjazzuser/videogame-anomoly/MNAD/dataset/bugs/symlink_loc\")\n",
    "#copy GTall to say GT1000    \n",
    "if not os.path.exists(\"/home/smoothjazzuser/videogame-anomoly/MNAD/dataset/bugs/symlink_loc/GT1000\"):\n",
    "    shutil.copytree(\"/home/smoothjazzuser/videogame-anomoly/MNAD/dataset/bugs/symlink_loc/GTall\", \"/home/smoothjazzuser/videogame-anomoly/MNAD/dataset/bugs/symlink_loc/GT1000\")"
   ]
  },
  {
   "cell_type": "code",
   "execution_count": 44,
   "metadata": {},
   "outputs": [],
   "source": [
    "# list all files in \"/home/smoothjazzuser/videogame-anomoly/MNAD/dataset/bugs/symlink_loc/1000\"\n",
    "all_files_in_GT1000 = glob('/home/smoothjazzuser/videogame-anomoly/MNAD/dataset/bugs/symlink_loc/1000/*.png') +  glob('/home/smoothjazzuser/videogame-anomoly/MNAD/dataset/bugs/symlink_loc/1000/*.jpg')\n",
    "# sort by filename\n",
    "all_files_in_1000 = sorted(all_files_in_GT1000, key=lambda x: int(x.split('/')[-1].split('.')[0]))\n",
    "len(all_files_in_1000)\n",
    "\n",
    "beg = len(all_files_in_1000) - int(len(all_files_in_1000)*.1)\n",
    "end = len(all_files_in_1000)\n",
    "# load GTall/frame_labels_bugs.npy\n",
    "frame_labels_bugs = np.load('/home/smoothjazzuser/videogame-anomoly/MNAD/dataset/bugs/symlink_loc/GTall/frame_labels_bugs.npy')\n",
    "\n",
    "# cut off last 10% of files in 1000 and move to 1001\n",
    "if not os.path.exists(\"/home/smoothjazzuser/videogame-anomoly/MNAD/dataset/bugs/symlink_loc/1001\"):\n",
    "    os.makedirs(\"/home/smoothjazzuser/videogame-anomoly/MNAD/dataset/bugs/symlink_loc/1001\")\n",
    "    for i in range(beg, end):\n",
    "        shutil.copy(all_files_in_1000[i], \"/home/smoothjazzuser/videogame-anomoly/MNAD/dataset/bugs/symlink_loc/1001\", follow_symlinks=True)\n",
    "\n",
    "# move 10% of GT1000 to GT1001\n",
    "if not os.path.exists(\"/home/smoothjazzuser/videogame-anomoly/MNAD/dataset/bugs/symlink_loc/GT1001\"):\n",
    "    os.makedirs(\"/home/smoothjazzuser/videogame-anomoly/MNAD/dataset/bugs/symlink_loc/GT1001\")\n",
    "    frame_labels_bugs_1001 = np.expand_dims(frame_labels_bugs[0][beg:end], axis=0)\n",
    "    np.save('/home/smoothjazzuser/videogame-anomoly/MNAD/dataset/bugs/symlink_loc/GT1001/frame_labels_bugs.npy', frame_labels_bugs_1001)"
   ]
  },
  {
   "cell_type": "code",
   "execution_count": 45,
   "metadata": {},
   "outputs": [],
   "source": [
    "# rename all symlinks in /home/smoothjazzuser/videogame-anomoly/MNAD/dataset/bugs/symlink_loc/GT1001/frame_labels_bugs.npy\" starting from 000.png\n",
    "all_files_in_GT1001 = glob('/home/smoothjazzuser/videogame-anomoly/MNAD/dataset/bugs/symlink_loc/GT1001/*.png') +  glob('/home/smoothjazzuser/videogame-anomoly/MNAD/dataset/bugs/symlink_loc/GT1001/*.jpg')\n",
    "all_files_in_GT1001 = sorted(all_files_in_GT1001, key=lambda x: int(x.split('/')[-1].split('.')[0]))\n",
    "for i,p in enumerate(all_files_in_GT1001):\n",
    "    k = str(i).zfill(3)\n",
    "    os.rename(p, f\"/home/smoothjazzuser/videogame-anomoly/MNAD/dataset/bugs/symlink_loc/GT1001/{k}.png\")"
   ]
  },
  {
   "cell_type": "code",
   "execution_count": 46,
   "metadata": {},
   "outputs": [
    {
     "data": {
      "text/plain": [
       "(1, 49272)"
      ]
     },
     "execution_count": 46,
     "metadata": {},
     "output_type": "execute_result"
    }
   ],
   "source": [
    "# read in GT1001/frame_labels_bugs.npy\n",
    "frame_labels_bugs_1001 = np.load('/home/smoothjazzuser/videogame-anomoly/MNAD/dataset/bugs/symlink_loc/GT1001/frame_labels_bugs.npy')\n",
    "# read in GT1000/frame_labels_bugs.npy\n",
    "frame_labels_bugs_1001.shape"
   ]
  },
  {
   "cell_type": "code",
   "execution_count": 47,
   "metadata": {},
   "outputs": [
    {
     "data": {
      "text/plain": [
       "(1, 492723)"
      ]
     },
     "execution_count": 47,
     "metadata": {},
     "output_type": "execute_result"
    }
   ],
   "source": [
    "# read in GT1001/frame_labels_bugs.npy\n",
    "frame_labels_bugs_1000 = np.load('/home/smoothjazzuser/videogame-anomoly/MNAD/dataset/bugs/symlink_loc/GT1000/frame_labels_bugs.npy')\n",
    "# read in GT1000/frame_labels_bugs.npy\n",
    "frame_labels_bugs_1000.shape"
   ]
  }
 ],
 "metadata": {
  "kernelspec": {
   "display_name": "base",
   "language": "python",
   "name": "python3"
  },
  "language_info": {
   "codemirror_mode": {
    "name": "ipython",
    "version": 3
   },
   "file_extension": ".py",
   "mimetype": "text/x-python",
   "name": "python",
   "nbconvert_exporter": "python",
   "pygments_lexer": "ipython3",
   "version": "3.9.13"
  },
  "orig_nbformat": 4,
  "vscode": {
   "interpreter": {
    "hash": "b7af08c789f4b74e9a00267d83d72d31580f58869f279fc3c57930ca1d6db349"
   }
  }
 },
 "nbformat": 4,
 "nbformat_minor": 2
}
