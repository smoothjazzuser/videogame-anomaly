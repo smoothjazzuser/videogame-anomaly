{
 "cells": [
  {
   "cell_type": "code",
   "execution_count": 1,
   "metadata": {},
   "outputs": [],
   "source": [
    "import numpy as np\n",
    "import matplotlib.pyplot as plt\n",
    "from PIL import Image as im\n",
    "import matplotlib.image as mpimg\n",
    "from tqdm.notebook import tqdm\n",
    "from glob import glob\n",
    "import os\n",
    "import cv2\n",
    "from PIL import Image\n",
    "ff = 10000000\n",
    "f = 100\n",
    "\n",
    "def vis(img): #reorders array to be compatible with matplotlib\n",
    "    im = np.moveaxis(img,0, -1)\n",
    "    plt.imshow(im)\n",
    "    plt.show()\n",
    "\n",
    "\n",
    "def numpy_to_image(img, path): #converts numpy array to image\n",
    "    if not os.path.exists(f'{path}.png'):\n",
    "        img = np.moveaxis(img,0, -1)\n",
    "        img = np.dot(img[...,:3], [0.299, 0.587, 0.114]) \n",
    "        mpimg.imsave(f'{path}.png', img, cmap='gray')\n",
    "        #Image.fromarray(img).save(f'{path}.png')\n",
    "        return 0,0\n",
    "    else:\n",
    "        img = np.moveaxis(img,0, -1)\n",
    "        print(f'{path}.png')\n",
    "        b=\"/\".join(path.split('/')[0:-2])\n",
    "        bb = int(path.split('/')[-1])+1\n",
    "        img = np.dot(img[...,:3], [0.299, 0.587, 0.114]) \n",
    "        mpimg.imsave(f\"\"\"{b}{bb}.png\"\"\", img,cmap='gray')\n",
    "        #Image.fromarray(img).save(f\"\"\"{b}{bb}.png\"\"\")\n",
    "        return 1,0\n",
    "def binarize(i):\n",
    "    return 1 if i > 0 else 0\n",
    "\n",
    "# name = test_mask(f, False)\n",
    "#print(name)\n",
    "\n",
    "test_data = np.load(f'/home/smoothjazzuser/Desktop/fast/NORMAL-TRAIN/ep-0000/00000000.npz', allow_pickle=True)\n",
    "test_data.files\n",
    "test_data['state'].shape\n",
    "tr = \"/home/smoothjazzuser/videogame-anomoly/MNAD/dataset/bugs/training/frames/\"\n",
    "te = \"/home/smoothjazzuser/videogame-anomoly/MNAD/dataset/bugs/testing/frames/\"\n",
    "#\n",
    "#glob('/home/smoothjazzuser/Desktop/fast/TEST/*')\n",
    "#glob('/home/smoothjazzuser/Desktop/fast/TEST/BlackScreen/*/*.npz')"
   ]
  },
  {
   "cell_type": "code",
   "execution_count": 2,
   "metadata": {},
   "outputs": [],
   "source": [
    "#make sure each dataset contains multiples of five images\n",
    "def check_dataset(path):\n",
    "    for i in glob(path + '/*'):\n",
    "        files = glob(i + '/*')\n",
    "        num = len(files)\n",
    "        div = num/5\n",
    "        if div % 1 != 0:\n",
    "            print(i, num, div)\n",
    "        \n",
    "\n",
    "check_dataset(tr)\n",
    "check_dataset(te)"
   ]
  },
  {
   "cell_type": "code",
   "execution_count": 3,
   "metadata": {},
   "outputs": [
    {
     "data": {
      "application/vnd.jupyter.widget-view+json": {
       "model_id": "1fe9d7ae76a74763bab4f5eeeb10c241",
       "version_major": 2,
       "version_minor": 0
      },
      "text/plain": [
       "  0%|          | 0/10 [00:00<?, ?it/s]"
      ]
     },
     "metadata": {},
     "output_type": "display_data"
    }
   ],
   "source": [
    "#sorted(glob.glob(f\"/home/smoothjazzuser/videogame-anomoly/MNAD/dataset/bugs/testing/frames/54/*.png\"), key=lambda x: int(x.split('/')[-1].split('.')[0]))\n",
    "\n",
    "masked_list = []\n",
    "folder_count = 0\n",
    "# for every file in each bug type folder, save the image to the corresponding folder under MNAD\n",
    "with tqdm(total=len(glob('/home/smoothjazzuser/Desktop/fast/TEST/*'))) as t:\n",
    "    for i in glob('/home/smoothjazzuser/Desktop/fast/TEST/*'):\n",
    "        \n",
    "        ff = glob(f'{i}/*')\n",
    "        ff.sort()\n",
    "\n",
    "        for ii in ff:\n",
    "            \n",
    "            counter = 0\n",
    "            folder_count+=1\n",
    "            if len(str(folder_count)) >= 2:\n",
    "                    f_name = '' + str(folder_count)\n",
    "            else:\n",
    "                f_name = '0' + str(folder_count)\n",
    "\n",
    "            images = glob(f'{ii}/*.npz')\n",
    "            images.sort()\n",
    "\n",
    "            for j in images:\n",
    "                \n",
    "                if len(str(counter)) >= 3:\n",
    "                    name = str(counter)\n",
    "                elif len(str(counter)) == 2:\n",
    "                    name = '0' + str(counter)\n",
    "                else:\n",
    "                    name = '00' + str(counter)\n",
    "                \n",
    "                data = np.load(j, allow_pickle=True)\n",
    "                masked_list.append(binarize(np.sum(data['info'][1])))\n",
    "                if not os.path.exists(f\"{te + f_name}\"):\n",
    "                    os.makedirs(f\"{te + f_name}\")\n",
    "                c, f =numpy_to_image(data['state'], te + f_name + \"/\" + name)\n",
    "                counter += c\n",
    "                folder_count += f\n",
    "                counter+=1\n",
    "            \n",
    "    t.update(1)\n",
    "\n",
    "np.save('frame_labels_bugs.npy', np.array(np.expand_dims(np.array(masked_list), axis=0)))"
   ]
  },
  {
   "cell_type": "code",
   "execution_count": 4,
   "metadata": {},
   "outputs": [
    {
     "data": {
      "text/plain": [
       "706"
      ]
     },
     "execution_count": 4,
     "metadata": {},
     "output_type": "execute_result"
    }
   ],
   "source": [
    "del masked_list\n",
    "import gc\n",
    "gc.collect()"
   ]
  },
  {
   "cell_type": "code",
   "execution_count": 5,
   "metadata": {},
   "outputs": [
    {
     "data": {
      "application/vnd.jupyter.widget-view+json": {
       "model_id": "43a82e58097645af9eef3d802f398065",
       "version_major": 2,
       "version_minor": 0
      },
      "text/plain": [
       "  0%|          | 0/70 [00:00<?, ?it/s]"
      ]
     },
     "metadata": {},
     "output_type": "display_data"
    }
   ],
   "source": [
    "folder_count = 0\n",
    "for i in tqdm(glob('/home/smoothjazzuser/Desktop/fast/NORMAL-TRAIN/*')):\n",
    "\n",
    "    folder_count+=1\n",
    "    if len(str(folder_count)) >= 2:\n",
    "        f_name = '' + str(folder_count)\n",
    "    else:\n",
    "        f_name = '0' + str(folder_count)\n",
    "    counter = -1\n",
    "    if not os.path.exists(f\"{tr + f_name}\"):\n",
    "            os.makedirs(f\"{tr + f_name}\")\n",
    "    \n",
    "    images = glob(f'{i}/*.npz')\n",
    "    images.sort()\n",
    "\n",
    "    for j in images:\n",
    "        counter+=1\n",
    "        if len(str(counter)) >= 3:\n",
    "            name = str(counter)\n",
    "        elif len(str(counter)) == 2:\n",
    "            name = '0' + str(counter)\n",
    "        else:\n",
    "            name = '00' + str(counter)\n",
    "                \n",
    "        data = np.load(j, allow_pickle=True)\n",
    "        #masked_list.append(np.sum(data['info'][1]))\n",
    "        numpy_to_image(data['state'], tr + f_name + \"/\" + name)\n",
    "        \n",
    "    "
   ]
  }
 ],
 "metadata": {
  "kernelspec": {
   "display_name": "Python 3.9.13 ('base')",
   "language": "python",
   "name": "python3"
  },
  "language_info": {
   "codemirror_mode": {
    "name": "ipython",
    "version": 3
   },
   "file_extension": ".py",
   "mimetype": "text/x-python",
   "name": "python",
   "nbconvert_exporter": "python",
   "pygments_lexer": "ipython3",
   "version": "3.9.13"
  },
  "orig_nbformat": 4,
  "vscode": {
   "interpreter": {
    "hash": "18f39d5a9bfe4d0ce9b1ccd808a3754df6677d81d118bc81d2886eb8b9b7056c"
   }
  }
 },
 "nbformat": 4,
 "nbformat_minor": 2
}
