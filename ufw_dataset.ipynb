{
 "cells": [
  {
   "cell_type": "code",
   "execution_count": null,
   "metadata": {},
   "outputs": [],
   "source": [
    "from glob import glob\n",
    "import numpy as np\n",
    "import pandas as pd\n",
    "pd.set_option('display.max_rows', 5)\n",
    "pd.set_option('display.max_columns', 500)\n",
    "pd.set_option('display.width', 1000)\n",
    "import matplotlib.pyplot as plt\n",
    "import seaborn as sns\n",
    "sns.set()\n",
    "%matplotlib inline\n",
    "import cv2\n",
    "import os, sys, time, datetime, random, math"
   ]
  },
  {
   "cell_type": "code",
   "execution_count": null,
   "metadata": {},
   "outputs": [],
   "source": [
    "video_path = '/home/smoothjazzuser/Desktop/videogame-anomoly/MNAD/dataset/ufc/'\n",
    "bugs_path = '/home/smoothjazzuser/Desktop/videogame-anomoly/MNAD/dataset/bugs/'"
   ]
  },
  {
   "cell_type": "code",
   "execution_count": null,
   "metadata": {},
   "outputs": [],
   "source": [
    "training_path = video_path + 'training/'\n",
    "testing_path = video_path + 'testing/'\n",
    "\n",
    "# use pandas to read folder of videos\n",
    "training_videos = glob(training_path + '*.mp4')\n",
    "training_videos = sorted(training_videos, key=lambda x: int(x.split('Videos')[-1].split('_')[0]))\n",
    "training_videos = pd.DataFrame(training_videos, columns=['video'])\n",
    "\n",
    "testing_videos = glob(testing_path + '*//' + '*.mp4')\n",
    "testing_videos = sorted(testing_videos, key=lambda x: int(x[-7:-4]))\n",
    "testing_videos = pd.DataFrame(testing_videos, columns=['video'])\n",
    "testing_videos['file_name'] = testing_videos['video'].apply(lambda x: x.split('/')[-1])\n",
    "\n",
    "\n",
    "# parse list (by lines) of video frame labels from MNAD/dataset/ufc/Temporal_Anomaly_Annotation_for_Testing_Videos.txt\n",
    "testing_labels = pd.read_csv(video_path + 'Temporal_Anomaly_Annotation_for_Testing_Videos.txt', sep=' ', header=None)\n",
    "testing_videos"
   ]
  },
  {
   "cell_type": "code",
   "execution_count": null,
   "metadata": {},
   "outputs": [],
   "source": [
    "testing_labels.columns = ['file_name', 'catagory', 'start1', 'end1', 'start2', 'end2']\n",
    "#replace all -1 with None\n",
    "testing_labels = testing_labels.replace(-1, None)\n",
    "testing_labels.head(5)"
   ]
  },
  {
   "cell_type": "code",
   "execution_count": null,
   "metadata": {},
   "outputs": [],
   "source": [
    "# join testing_labels to testing_videos by file_name\n",
    "testing_videos = testing_videos.merge(testing_labels, on='file_name', how='left')\n",
    "# drop files that are not in testing_labels\n",
    "testing_videos = testing_videos.dropna(subset=['catagory'])\n",
    "# convert start1 and end1 to frame index range\n",
    "testing_videos['anomaly_frames'] = testing_videos.apply(lambda x: list(range(int(x['start1']), int(x['end1']))), axis=1)\n",
    "del testing_videos['start1']\n",
    "del testing_videos['end1']\n",
    "# convert start1 and end1 to frame index range if values are not None\n",
    "testing_videos['anomaly_frames2'] = testing_videos.apply(lambda x: list(range(int(x['start2']), int(x['end2']))) if not x['start2'] == None else None, axis=1)\n",
    "del testing_videos['start2']\n",
    "del testing_videos['end2']\n",
    "#combine all intefers from anomaly_frames and anomaly_frames2\n",
    "testing_videos['anomaly_frames'] = testing_videos.apply(lambda x: x['anomaly_frames'] + x['anomaly_frames2'] if not x['anomaly_frames2'] == None else x['anomaly_frames'], axis=1)\n",
    "del testing_videos['anomaly_frames2']\n",
    "#sort index\n",
    "testing_videos = testing_videos.sort_values(by=['file_name'])\n",
    "#set integer index\n",
    "testing_videos = testing_videos.reset_index(drop=True)\n",
    "#replace filename with integer index, and then use zfill to pad with zeros\n",
    "testing_videos['file_name'] = testing_videos.index\n",
    "testing_videos['file_name'] = testing_videos['file_name'].apply(lambda x: str(x).zfill(3))\n",
    "\n",
    "testing_videos"
   ]
  },
  {
   "cell_type": "code",
   "execution_count": null,
   "metadata": {},
   "outputs": [],
   "source": [
    "# index training\n",
    "training_videos['file_name'] = training_videos.index\n",
    "training_videos['file_name'] = training_videos['file_name'].apply(lambda x: str(x).zfill(3))\n",
    "\n",
    "training_videos"
   ]
  },
  {
   "cell_type": "code",
   "execution_count": null,
   "metadata": {},
   "outputs": [],
   "source": [
    "# calculate output folder and name for each video based on file_name\n",
    "testing_videos['output_folder'] = testing_videos['file_name'].apply(lambda x: bugs_path + 'symlink_loc/frames/' + x + '/')\n",
    "training_videos['output_folder'] = training_videos['file_name'].apply(lambda x: bugs_path + 'training/frames/' + x + '/')\n",
    "\n",
    "# create output folders\n",
    "testing_videos['output_folder'].apply(lambda x: os.makedirs(x, exist_ok=True))\n",
    "training_videos['output_folder'].apply(lambda x: os.makedirs(x, exist_ok=True))\n",
    "str(testing_videos['output_folder'][0])"
   ]
  },
  {
   "cell_type": "code",
   "execution_count": null,
   "metadata": {},
   "outputs": [],
   "source": [
    "# use ffmpeg to load video at 30fps and save frames to output folder\n",
    "def save_frames(video_path, output_folder):\n",
    "    # use 95% quality to save space\n",
    "    os.system('ffmpeg -i ' + video_path + ' -vf fps=30 ' + output_folder + '%3d.jpg' + ' -q:v 95')\n",
    "\n",
    "testing_videos['video'].apply(lambda x: save_frames(x, str(testing_videos['output_folder'][testing_videos['video'] == x].values[0])))\n"
   ]
  },
  {
   "cell_type": "code",
   "execution_count": null,
   "metadata": {},
   "outputs": [],
   "source": [
    "\n",
    "training_videos['video'].apply(lambda x: save_frames(x, str(training_videos['output_folder'][training_videos['video'] == x].values[0])))"
   ]
  },
  {
   "cell_type": "code",
   "execution_count": null,
   "metadata": {},
   "outputs": [],
   "source": [
    "# calculate which frames are anomalies\n",
    "def range_anom(output_folder, anomaly_frames):\n",
    "    files = glob(output_folder + '*.jpg')\n",
    "    anom = []\n",
    "    for i in range(len(files)):\n",
    "        if i in anomaly_frames:\n",
    "            anom.append(1)\n",
    "        else:\n",
    "            anom.append(0)\n",
    "\n",
    "    return anom\n",
    "\n",
    "testing_videos['anomaly'] = testing_videos.apply(lambda x: range_anom(x['output_folder'], x['anomaly_frames']), axis=1)"
   ]
  },
  {
   "cell_type": "code",
   "execution_count": null,
   "metadata": {},
   "outputs": [],
   "source": [
    "testing_videos"
   ]
  },
  {
   "cell_type": "code",
   "execution_count": null,
   "metadata": {},
   "outputs": [],
   "source": [
    "#concatenate all anomaly lists into one list\n",
    "frame_labels_anomalies = []\n",
    "for i in range(len(testing_videos)):\n",
    "    frame_labels_anomalies = frame_labels_anomalies + testing_videos['anomaly'][i]\n",
    "\n",
    "# export the list as a .npy file called /home/smoothjazzuser/Desktop/videogame-anomoly/MNAD/dataset/bugs/symlink_loc/Gall/frame_labels_bugs.npy\n",
    "np.save(bugs_path + 'symlink_loc/GTall/frame_labels_bugs.npy', np.expand_dims(frame_labels_anomalies, axis = 0))\n",
    "\n",
    "#export to csv\n",
    "testing_videos.to_csv(bugs_path + 'testing_frame_labels_bugs.csv')\n",
    "training_videos.to_csv(bugs_path + 'training_frame_labels_bugs.csv')"
   ]
  }
 ],
 "metadata": {
  "kernelspec": {
   "display_name": "Python 3.9.13 ('base')",
   "language": "python",
   "name": "python3"
  },
  "language_info": {
   "codemirror_mode": {
    "name": "ipython",
    "version": 3
   },
   "file_extension": ".py",
   "mimetype": "text/x-python",
   "name": "python",
   "nbconvert_exporter": "python",
   "pygments_lexer": "ipython3",
   "version": "3.9.13"
  },
  "orig_nbformat": 4,
  "vscode": {
   "interpreter": {
    "hash": "18f39d5a9bfe4d0ce9b1ccd808a3754df6677d81d118bc81d2886eb8b9b7056c"
   }
  }
 },
 "nbformat": 4,
 "nbformat_minor": 2
}
